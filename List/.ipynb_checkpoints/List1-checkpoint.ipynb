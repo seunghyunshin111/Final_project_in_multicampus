{
 "cells": [
  {
   "cell_type": "code",
   "execution_count": 12,
   "metadata": {},
   "outputs": [
    {
     "data": {
      "text/plain": [
       "[('로마', 521),\n",
       " ('피렌체', 405),\n",
       " ('밀라노', 223),\n",
       " ('베네치아', 143),\n",
       " ('나폴리', 58),\n",
       " ('베로나', 50),\n",
       " ('볼로냐', 13),\n",
       " ('토리노', 10),\n",
       " ('라스페치아', 10),\n",
       " ('팔레르모', 7),\n",
       " ('파도바', 5),\n",
       " ('베르가모', 5),\n",
       " ('바리', 4),\n",
       " ('라티나', 4),\n",
       " ('카타니아', 3),\n",
       " ('라벤나', 2),\n",
       " ('칼리아리', 1),\n",
       " ('모데나', 1),\n",
       " ('파르마', 1),\n",
       " ('페루자', 1),\n",
       " ('노바라', 1)]"
      ]
     },
     "execution_count": 12,
     "metadata": {},
     "output_type": "execute_result"
    }
   ],
   "source": [
    "import operator\n",
    "x = {'로마': 521, '밀라노': 223, '나폴리': 58, '팔레르모': 7, '토리노': 10, '바리': 4, '카타니아': 3, '볼로냐': 13, '피렌체': 405, '베네치아': 143, '칼리아리': 1, '베로나': 50, '파도바': 5, '모데나': 1, '파르마': 1, '페루자': 1, '라벤나': 2, '베르가모': 5, '라티나': 4, '노바라': 1, '라스페치아': 10}\n",
    "\n",
    "List1 = sorted(x.items(), key = operator.itemgetter(1), reverse=True)\n",
    "List1"
   ]
  }
 ],
 "metadata": {
  "kernelspec": {
   "display_name": "Python 3",
   "language": "python",
   "name": "python3"
  },
  "language_info": {
   "codemirror_mode": {
    "name": "ipython",
    "version": 3
   },
   "file_extension": ".py",
   "mimetype": "text/x-python",
   "name": "python",
   "nbconvert_exporter": "python",
   "pygments_lexer": "ipython3",
   "version": "3.7.4"
  }
 },
 "nbformat": 4,
 "nbformat_minor": 2
}
