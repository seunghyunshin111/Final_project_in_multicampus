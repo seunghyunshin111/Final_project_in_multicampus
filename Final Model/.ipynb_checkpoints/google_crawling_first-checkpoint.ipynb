{
 "cells": [
  {
   "cell_type": "code",
   "execution_count": 2,
   "metadata": {},
   "outputs": [],
   "source": [
    "from selenium import webdriver\n",
    "from selenium.webdriver.common.keys import Keys\n",
    "from bs4 import BeautifulSoup\n",
    "import time\n",
    "import urllib\n",
    "import requests"
   ]
  },
  {
   "cell_type": "code",
   "execution_count": 6,
   "metadata": {},
   "outputs": [],
   "source": [
    "driver = webdriver.Chrome()"
   ]
  },
  {
   "cell_type": "code",
   "execution_count": 7,
   "metadata": {},
   "outputs": [],
   "source": [
    "driver.get('https://www.google.com/search?q=positano&sxsrf=ACYBGNTKwcqgjeYGZDd_PrfIkJ1r6fFyyA:1582007373308&source=lnms&tbm=isch&sa=X&ved=2ahUKEwjUmJLcvNrnAhWNJaYKHVbNAOgQ_AUoAXoECBEQAw&biw=1280&bih=913')\n",
    "time.sleep(1)"
   ]
  },
  {
   "cell_type": "code",
   "execution_count": 8,
   "metadata": {},
   "outputs": [],
   "source": [
    "for i in range(30):\n",
    "    try:\n",
    "        driver.find_element_by_xpath('//*[@id=\"islrg\"]/div[1]/div['+str(i)+']/a[1]/div[1]/img').click()\n",
    "        time.sleep(1.5)\n",
    "        elem = driver.find_element_by_xpath('//*[@id=\"Sva75c\"]/div/div/div[3]/div[2]/div/div[1]/div[1]/div/div[2]/a/img')\n",
    "        image_url = elem.get_attribute('src')\n",
    "        file_name = \"positano_\"+str(i)+\".png\"\n",
    "        urllib.request.urlretrieve(image_url, file_name)\n",
    "        time.sleep(1)\n",
    "        if i % 8 == 0:\n",
    "            body.send_keys(Keys.PAGE_DOWN)\n",
    "            time.sleep(1)\n",
    "    except:\n",
    "        pass"
   ]
  },
  {
   "cell_type": "markdown",
   "metadata": {},
   "source": [
    "### 테스트 소스"
   ]
  },
  {
   "cell_type": "code",
   "execution_count": 30,
   "metadata": {},
   "outputs": [],
   "source": [
    "# 첫 번째 사진 클릭\n",
    "driver.find_element_by_xpath('//*[@id=\"islrg\"]/div[1]/div[1]/a[1]/div[1]/img').click()"
   ]
  },
  {
   "cell_type": "code",
   "execution_count": 19,
   "metadata": {},
   "outputs": [],
   "source": [
    "# 1-1. 확대 후 테스트\n",
    "titles = driver.find_element_by_xpath('//*[@id=\"Sva75c\"]/div/div/div[3]/div[2]/div/div[1]/div[1]/div/div[2]/a/img')\n",
    "image_url = titles.get_attribute('src')"
   ]
  },
  {
   "cell_type": "code",
   "execution_count": 20,
   "metadata": {},
   "outputs": [
    {
     "data": {
      "text/plain": [
       "('positano_second.png', <http.client.HTTPMessage at 0x245c4f2d7c8>)"
      ]
     },
     "execution_count": 20,
     "metadata": {},
     "output_type": "execute_result"
    }
   ],
   "source": [
    "file_name = \"positano_second.png\"\n",
    "urllib.request.urlretrieve(image_url,file_name)"
   ]
  },
  {
   "cell_type": "code",
   "execution_count": 32,
   "metadata": {},
   "outputs": [],
   "source": [
    "# x표 클릭\n",
    "driver.find_element_by_css_selector('#Sva75c > div > div > div:nth-child(2) > a > div > svg').click()"
   ]
  },
  {
   "cell_type": "code",
   "execution_count": 33,
   "metadata": {},
   "outputs": [],
   "source": [
    "# 두 번째 사진 클릭\n",
    "driver.find_element_by_xpath('//*[@id=\"islrg\"]/div[1]/div[2]/a[1]/div[1]/img').click()"
   ]
  },
  {
   "cell_type": "code",
   "execution_count": 35,
   "metadata": {},
   "outputs": [],
   "source": [
    "# 확대 후 이미지 링크 정보 가져오기\n",
    "elem = driver.find_element_by_xpath('//*[@id=\"Sva75c\"]/div/div/div[3]/div[2]/div/div[1]/div[1]/div/div[2]/a/img')\n",
    "image_url = elem.get_attribute('src')"
   ]
  },
  {
   "cell_type": "code",
   "execution_count": 36,
   "metadata": {},
   "outputs": [
    {
     "data": {
      "text/plain": [
       "('positano_third.png', <http.client.HTTPMessage at 0x245c4f0bd08>)"
      ]
     },
     "execution_count": 36,
     "metadata": {},
     "output_type": "execute_result"
    }
   ],
   "source": [
    "# 이미지 파일 저장하기\n",
    "file_name = \"positano_third.png\"\n",
    "urllib.request.urlretrieve(image_url, file_name)"
   ]
  },
  {
   "cell_type": "code",
   "execution_count": 37,
   "metadata": {},
   "outputs": [],
   "source": [
    "# X표 클릭하여 닫기\n",
    "driver.find_element_by_css_selector('#Sva75c > div > div > div:nth-child(2) > a > div > svg').click()"
   ]
  }
 ],
 "metadata": {
  "kernelspec": {
   "display_name": "Python 3",
   "language": "python",
   "name": "python3"
  },
  "language_info": {
   "codemirror_mode": {
    "name": "ipython",
    "version": 3
   },
   "file_extension": ".py",
   "mimetype": "text/x-python",
   "name": "python",
   "nbconvert_exporter": "python",
   "pygments_lexer": "ipython3",
   "version": "3.7.4"
  }
 },
 "nbformat": 4,
 "nbformat_minor": 2
}
