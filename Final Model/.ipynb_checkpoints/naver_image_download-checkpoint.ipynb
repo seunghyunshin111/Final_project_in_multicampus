{
 "cells": [
  {
   "cell_type": "code",
   "execution_count": 2,
   "metadata": {},
   "outputs": [],
   "source": [
    "import urllib.request # 웹 url을 파이썬이 인식할 수 있게 하는 패키지\n",
    "from bs4 import BeautifulSoup # html에서 데이터 검색을 용이하게 하는 패키지\n",
    "from selenium import webdriver # 웹 애플리케이션의 테스트를 자동화하기 위한 프레임워크\n",
    "from selenium.webdriver.common.keys import Keys # 손으로 클릭하는 것을 컴퓨터가 대신\n",
    "import time # 중간중간 sleep을 걸어야 해서 time 모듈 import\n",
    "import requests"
   ]
  },
  {
   "cell_type": "code",
   "execution_count": 3,
   "metadata": {},
   "outputs": [],
   "source": [
    "def naver_get(name, url): # 네이버 이미지\n",
    "    driver = webdriver.Chrome()\n",
    "    driver.get(url)\n",
    "    time.sleep(1)\n",
    "    body = driver.find_element_by_tag_name(\"body\")\n",
    "    num_of_pagedowns = 2\n",
    "    \n",
    "    while num_of_pagedowns:\n",
    "        body.send_keys(Keys.PAGE_DOWN)\n",
    "        time.sleep(0.3)\n",
    "        num_of_pagedowns -= 1\n",
    "        \n",
    "    html = driver.page_source\n",
    "    soup = BeautifulSoup(html)\n",
    "    my_titles = soup.find_all('img', class_='_img')\n",
    "    \n",
    "    my_list=[]\n",
    "    for i in range(len(my_titles)):\n",
    "        my_list.append(my_titles[i]['src'])\n",
    "    count = 0\n",
    "    for i in my_list:\n",
    "        # 딕셔너리를 순서대로 넣어줌\n",
    "        t = urllib.request.urlopen(i).read()\n",
    "        filename = \"./positano/\"+name+str(count)+'.png'\n",
    "        with open(filename, 'wb') as f:\n",
    "            f.write(t)\n",
    "        count += 1\n",
    "    print(\"Img Save Success\")"
   ]
  },
  {
   "cell_type": "code",
   "execution_count": 4,
   "metadata": {},
   "outputs": [
    {
     "name": "stdout",
     "output_type": "stream",
     "text": [
      "Img Save Success\n"
     ]
    }
   ],
   "source": [
    "naver_get('italy positano', 'https://search.naver.com/search.naver?sm=tab_hty.top&where=image&query=italy+positano&oquery=positano&tqi=UCpxodp0JywssjU7%2Bzossssss7N-034385')"
   ]
  }
 ],
 "metadata": {
  "kernelspec": {
   "display_name": "Python 3",
   "language": "python",
   "name": "python3"
  },
  "language_info": {
   "codemirror_mode": {
    "name": "ipython",
    "version": 3
   },
   "file_extension": ".py",
   "mimetype": "text/x-python",
   "name": "python",
   "nbconvert_exporter": "python",
   "pygments_lexer": "ipython3",
   "version": "3.7.4"
  }
 },
 "nbformat": 4,
 "nbformat_minor": 2
}
