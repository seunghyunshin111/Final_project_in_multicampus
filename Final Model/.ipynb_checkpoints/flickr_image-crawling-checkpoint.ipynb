{
 "cells": [
  {
   "cell_type": "code",
   "execution_count": 6,
   "metadata": {},
   "outputs": [],
   "source": [
    "import pandas as pd\n",
    "import urllib\n",
    "import requests\n",
    "import time"
   ]
  },
  {
   "cell_type": "code",
   "execution_count": 7,
   "metadata": {},
   "outputs": [],
   "source": [
    "# url 불러와서 image 저장하기: urllib.retrieve 라이브러리 활용\n",
    "flickr_df = pd.read_csv('c:/final_project_multi/italy_dataframe.csv')"
   ]
  },
  {
   "cell_type": "code",
   "execution_count": 9,
   "metadata": {},
   "outputs": [
    {
     "data": {
      "text/plain": [
       "250"
      ]
     },
     "execution_count": 9,
     "metadata": {},
     "output_type": "execute_result"
    }
   ],
   "source": [
    "len(flickr_df)"
   ]
  },
  {
   "cell_type": "code",
   "execution_count": 8,
   "metadata": {},
   "outputs": [
    {
     "data": {
      "text/plain": [
       "0      https://www.flickr.com/photos/alice240/3547438...\n",
       "1      https://www.flickr.com/photos/robertobertolle/...\n",
       "2      https://www.flickr.com/photos/robertobertolle/...\n",
       "3      https://www.flickr.com/photos/robertobertolle/...\n",
       "4      https://www.flickr.com/photos/robertobertolle/...\n",
       "                             ...                        \n",
       "245    https://www.flickr.com/photos/robertobertolle/...\n",
       "246    https://www.flickr.com/photos/robertobertolle/...\n",
       "247    https://www.flickr.com/photos/robertobertolle/...\n",
       "248    https://www.flickr.com/photos/robertobertolle/...\n",
       "249    https://www.flickr.com/photos/robertobertolle/...\n",
       "Name: image_url, Length: 250, dtype: object"
      ]
     },
     "execution_count": 8,
     "metadata": {},
     "output_type": "execute_result"
    }
   ],
   "source": [
    "urls = flickr_df['image_url']\n",
    "urls"
   ]
  },
  {
   "cell_type": "code",
   "execution_count": 5,
   "metadata": {},
   "outputs": [
    {
     "data": {
      "text/plain": [
       "250"
      ]
     },
     "execution_count": 5,
     "metadata": {},
     "output_type": "execute_result"
    }
   ],
   "source": [
    "len(urls)"
   ]
  },
  {
   "cell_type": "code",
   "execution_count": 10,
   "metadata": {},
   "outputs": [
    {
     "data": {
      "text/plain": [
       "'https://www.flickr.com/photos/robertobertolle/49498046336/'"
      ]
     },
     "execution_count": 10,
     "metadata": {},
     "output_type": "execute_result"
    }
   ],
   "source": [
    "urls[1]"
   ]
  },
  {
   "cell_type": "code",
   "execution_count": 5,
   "metadata": {},
   "outputs": [],
   "source": [
    "from tqdm.notebook import tqdm"
   ]
  },
  {
   "cell_type": "code",
   "execution_count": 6,
   "metadata": {},
   "outputs": [],
   "source": [
    "from selenium import webdriver"
   ]
  },
  {
   "cell_type": "code",
   "execution_count": 7,
   "metadata": {},
   "outputs": [],
   "source": [
    "# 1) headless option 추가하지 않을 때\n",
    "driver = webdriver.Chrome()\n",
    "# 2) headless option 추가할 때 [aws를 통해 작업을 할 때 사용해야 할 방법]\n",
    "# from selenium.webdriver.chrome.options import Options\n",
    "# options = Options()\n",
    "# options.headless = True\n",
    "# driver = webdriver.Chrome(chrome_options=options)"
   ]
  },
  {
   "cell_type": "code",
   "execution_count": 8,
   "metadata": {},
   "outputs": [
    {
     "data": {
      "application/vnd.jupyter.widget-view+json": {
       "model_id": "07ccf821d31646a1ad22f134c074213c",
       "version_major": 2,
       "version_minor": 0
      },
      "text/plain": [
       "HBox(children=(FloatProgress(value=0.0, max=250.0), HTML(value='')))"
      ]
     },
     "metadata": {},
     "output_type": "display_data"
    },
    {
     "name": "stdout",
     "output_type": "stream",
     "text": [
      "\n",
      "0.97\n"
     ]
    }
   ],
   "source": [
    "# time.sleep 시간을 얼마로 설정하느냐에 따라, 다운로드 성공률이 달라지는지 확인해볼 것 !\n",
    "success_count = 0\n",
    "for i in tqdm(range(len(urls))):\n",
    "    try:\n",
    "        driver.get(urls[i])\n",
    "        time.sleep(0.5)\n",
    "        driver.find_element_by_xpath('/html/body/div[1]/div/div[2]/div/div[5]/div[3]/a/i').click()\n",
    "        time.sleep(0.5)\n",
    "        driver.find_element_by_xpath('/html/body/div[3]/div/div[2]/div/ul/li[5]/a/span[2]').click()\n",
    "        time.sleep(0.5)\n",
    "#         print('{}-download-success'.format(i))\n",
    "        success_count += 1\n",
    "    except:\n",
    "#         print('{}-download-fail'.format(i))\n",
    "        pass\n",
    "success_rate = success_count / len(urls)\n",
    "print('%.2f' % success_rate)"
   ]
  },
  {
   "cell_type": "code",
   "execution_count": null,
   "metadata": {},
   "outputs": [],
   "source": [
    "# 다운로드 받은 파일 원하는 곳에 저장, 그리고 원하는 이름 대로 변경하기 [해야 할 일!]"
   ]
  },
  {
   "cell_type": "markdown",
   "metadata": {},
   "source": [
    "### 미완성"
   ]
  },
  {
   "cell_type": "code",
   "execution_count": 37,
   "metadata": {},
   "outputs": [
    {
     "data": {
      "text/plain": [
       "('italy_1.jpg', <http.client.HTTPMessage at 0x1c660e1d6d8>)"
      ]
     },
     "execution_count": 37,
     "metadata": {},
     "output_type": "execute_result"
    }
   ],
   "source": [
    "file_name = 'italy_'+str(1)+'.jpg'\n",
    "urllib.request.urlretrieve(url_re, file_name)"
   ]
  },
  {
   "cell_type": "code",
   "execution_count": 22,
   "metadata": {},
   "outputs": [],
   "source": [
    "from tqdm import tqdm"
   ]
  },
  {
   "cell_type": "code",
   "execution_count": 18,
   "metadata": {},
   "outputs": [
    {
     "data": {
      "text/plain": [
       "('italy_1.png', <http.client.HTTPMessage at 0x1c672179e10>)"
      ]
     },
     "execution_count": 18,
     "metadata": {},
     "output_type": "execute_result"
    }
   ],
   "source": [
    "file_name = 'italy_'+str(1)+'.jpg'\n",
    "urllib.request.urlretrieve(url[1], file_name)"
   ]
  },
  {
   "cell_type": "code",
   "execution_count": null,
   "metadata": {},
   "outputs": [],
   "source": [
    "for i in range(len(url)):\n",
    "    response = urllib.request.urlopen(url)"
   ]
  }
 ],
 "metadata": {
  "kernelspec": {
   "display_name": "Python 3",
   "language": "python",
   "name": "python3"
  },
  "language_info": {
   "codemirror_mode": {
    "name": "ipython",
    "version": 3
   },
   "file_extension": ".py",
   "mimetype": "text/x-python",
   "name": "python",
   "nbconvert_exporter": "python",
   "pygments_lexer": "ipython3",
   "version": "3.6.10"
  }
 },
 "nbformat": 4,
 "nbformat_minor": 4
}
