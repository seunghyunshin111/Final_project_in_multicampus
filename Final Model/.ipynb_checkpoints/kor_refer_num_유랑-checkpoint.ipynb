{
 "cells": [
  {
   "cell_type": "code",
   "execution_count": 3,
   "metadata": {},
   "outputs": [],
   "source": [
    "from selenium import webdriver\n",
    "import re"
   ]
  },
  {
   "cell_type": "code",
   "execution_count": 4,
   "metadata": {},
   "outputs": [],
   "source": [
    "site = 'https://ko.wikipedia.org/wiki/%EC%9D%B4%ED%83%88%EB%A6%AC%EC%95%84%EC%9D%98_%EC%9D%B8%EA%B5%AC%EC%88%9C_%EB%8F%84%EC%8B%9C_%EB%AA%A9%EB%A1%9D'"
   ]
  },
  {
   "cell_type": "code",
   "execution_count": 5,
   "metadata": {},
   "outputs": [],
   "source": [
    "driver = webdriver.Chrome()"
   ]
  },
  {
   "cell_type": "code",
   "execution_count": 6,
   "metadata": {},
   "outputs": [],
   "source": [
    "driver.get(site)"
   ]
  },
  {
   "cell_type": "code",
   "execution_count": 7,
   "metadata": {},
   "outputs": [],
   "source": [
    "city_list_kor = []\n",
    "for i in range(1,51):\n",
    "    city_name = driver.find_element_by_xpath(f'//*[@id=\"mw-content-text\"]/div/table/tbody/tr[{i}]/td[2]/b/a').text\n",
    "    city_list_kor.append(city_name)"
   ]
  },
  {
   "cell_type": "code",
   "execution_count": 9,
   "metadata": {},
   "outputs": [
    {
     "name": "stdout",
     "output_type": "stream",
     "text": [
      "['로마', '밀라노', '나폴리', '팔레르모', '토리노', '바리', '카타니아', '볼로냐', '피렌체', '제노바', '베네치아', '메시나', '레조디칼라브리아', '칼리아리', '베로나', '파도바', '트리에스테', '타란토', '프라토', '브레시아', '모데나', '파르마', '레조넬에밀리아', '페루자', '리보르노', '포자', '라벤나', '리미니', '살레르노', '페라라', '사사리', '시라쿠사', '페스카라', '몬차', '트렌토', '베르가모', '비첸차', '라티나', '포를리', '테르니', '줄리아노인캄파니아', '피아첸차', '노바라', '볼차노', '안코나', '아레초', '안드리아', '우디네', '카탄차로', '라스페치아']\n"
     ]
    }
   ],
   "source": [
    "print(city_list_kor)"
   ]
  },
  {
   "cell_type": "code",
   "execution_count": 10,
   "metadata": {},
   "outputs": [],
   "source": [
    "# 이탈리아 도시 리스트 [한국어 버전] 생성 완료\n",
    "with open(\"city_list_kor.txt\",\"w\", encoding=\"utf-8\") as f :\n",
    "    f.write(str(city_list_kor))"
   ]
  },
  {
   "cell_type": "code",
   "execution_count": 11,
   "metadata": {},
   "outputs": [],
   "source": [
    "# 유랑 데이터에서 각 도시가 언급되는 수를 확인\n",
    "frequency = {}\n",
    "document_text = open('./review_italy_유랑.txt', 'r', encoding='utf-8')\n",
    "text_reading = document_text.read()\n",
    "document_text.close()"
   ]
  },
  {
   "cell_type": "code",
   "execution_count": 12,
   "metadata": {},
   "outputs": [],
   "source": [
    "city_refer = {}\n",
    "for city_kor in city_list_kor :\n",
    "    match_pattern = re.findall(city_kor+\".\", text_reading)\n",
    "    refer = len(match_pattern)\n",
    "    city_refer[city_kor] = refer"
   ]
  },
  {
   "cell_type": "code",
   "execution_count": 13,
   "metadata": {},
   "outputs": [
    {
     "name": "stdout",
     "output_type": "stream",
     "text": [
      "{'로마': 521, '밀라노': 223, '나폴리': 58, '팔레르모': 7, '토리노': 10, '바리': 4, '카타니아': 3, '볼로냐': 13, '피렌체': 405, '제노바': 0, '베네치아': 143, '메시나': 0, '레조디칼라브리아': 0, '칼리아리': 1, '베로나': 50, '파도바': 5, '트리에스테': 0, '타란토': 0, '프라토': 0, '브레시아': 0, '모데나': 1, '파르마': 1, '레조넬에밀리아': 0, '페루자': 1, '리보르노': 0, '포자': 0, '라벤나': 2, '리미니': 0, '살레르노': 0, '페라라': 0, '사사리': 0, '시라쿠사': 0, '페스카라': 0, '몬차': 0, '트렌토': 0, '베르가모': 5, '비첸차': 0, '라티나': 4, '포를리': 0, '테르니': 0, '줄리아노인캄파니아': 0, '피아첸차': 0, '노바라': 1, '볼차노': 0, '안코나': 0, '아레초': 0, '안드리아': 0, '우디네': 0, '카탄차로': 0, '라스페치아': 10}\n"
     ]
    }
   ],
   "source": [
    "print(city_refer)"
   ]
  },
  {
   "cell_type": "code",
   "execution_count": 14,
   "metadata": {},
   "outputs": [],
   "source": [
    "with open(\"city_refer_유랑.txt\",\"w\", encoding=\"utf-8\") as f :\n",
    "    f.write(str(city_refer))"
   ]
  }
 ],
 "metadata": {
  "kernelspec": {
   "display_name": "Python 3",
   "language": "python",
   "name": "python3"
  },
  "language_info": {
   "codemirror_mode": {
    "name": "ipython",
    "version": 3
   },
   "file_extension": ".py",
   "mimetype": "text/x-python",
   "name": "python",
   "nbconvert_exporter": "python",
   "pygments_lexer": "ipython3",
   "version": "3.7.4"
  }
 },
 "nbformat": 4,
 "nbformat_minor": 2
}
