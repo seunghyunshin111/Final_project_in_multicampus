{
 "cells": [
  {
   "cell_type": "code",
   "execution_count": 1,
   "metadata": {},
   "outputs": [],
   "source": [
    "from selenium import webdriver\n",
    "import pandas as pd\n",
    "import time"
   ]
  },
  {
   "cell_type": "code",
   "execution_count": 2,
   "metadata": {},
   "outputs": [],
   "source": [
    "driver = webdriver.Chrome()\n",
    "driver.implicitly_wait(3)"
   ]
  },
  {
   "cell_type": "code",
   "execution_count": 11,
   "metadata": {},
   "outputs": [],
   "source": [
    "id = ''\n",
    "pw = ''"
   ]
  },
  {
   "cell_type": "code",
   "execution_count": 4,
   "metadata": {},
   "outputs": [],
   "source": [
    "# 네이버 로그인\n",
    "driver.get('https://nid.naver.com/nidlogin.login')\n",
    "driver.execute_script(\"document.getElementsByName('id')[0].value=\\'\"+ id +\"\\'\")\n",
    "driver.execute_script(\"document.getElementsByName('pw')[0].value=\\'\"+ pw +\"\\'\")                     \n",
    "driver.find_element_by_xpath('//*[@id=\"frmNIDLogin\"]/fieldset/input').click()"
   ]
  },
  {
   "cell_type": "code",
   "execution_count": 5,
   "metadata": {},
   "outputs": [],
   "source": [
    "# 숨겨진 URL\n",
    "pageNum = 1\n",
    "hiddenurl = 'https://cafe.naver.com/firenze?iframe_url=/ArticleList.nhn%3Fsearch.clubid=10209062%26search.menuid=23%26search.boardtype=L%26search.totalCount=151%26search.page={}'.format(pageNum)\n",
    "driver.get(hiddenurl) # 숨겨진 URL로 들어가기"
   ]
  },
  {
   "cell_type": "code",
   "execution_count": 6,
   "metadata": {},
   "outputs": [],
   "source": [
    "# frame 전환 [pc모드에서만 필요한 내용]\n",
    "driver.switch_to.frame(\"cafe_main\")"
   ]
  },
  {
   "cell_type": "code",
   "execution_count": 7,
   "metadata": {},
   "outputs": [
    {
     "name": "stdout",
     "output_type": "stream",
     "text": [
      "10번째 글 크롤링 완료\n",
      "2번째 페이지 접속\n",
      "10번째 글 크롤링 완료\n",
      "3번째 페이지 접속\n",
      "10번째 글 크롤링 완료\n",
      "4번째 페이지 접속\n",
      "10번째 글 크롤링 완료\n",
      "5번째 페이지 접속\n",
      "10번째 글 크롤링 완료\n",
      "6번째 페이지 접속\n",
      "10번째 글 크롤링 완료\n",
      "7번째 페이지 접속\n",
      "10번째 글 크롤링 완료\n",
      "8번째 페이지 접속\n",
      "10번째 글 크롤링 완료\n",
      "9번째 페이지 접속\n",
      "10번째 글 크롤링 완료\n",
      "10번째 페이지 접속\n",
      "10번째 글 크롤링 완료\n",
      "10+1번째 페이지 접속\n",
      "10번째 글 크롤링 완료\n",
      "2번째 페이지 접속\n",
      "10번째 글 크롤링 완료\n",
      "3번째 페이지 접속\n",
      "10번째 글 크롤링 완료\n",
      "4번째 페이지 접속\n",
      "10번째 글 크롤링 완료\n",
      "5번째 페이지 접속\n",
      "10번째 글 크롤링 완료\n",
      "6번째 페이지 접속\n",
      "10번째 글 크롤링 완료\n",
      "7번째 페이지 접속\n",
      "10번째 글 크롤링 완료\n",
      "8번째 페이지 접속\n",
      "10번째 글 크롤링 완료\n",
      "9번째 페이지 접속\n",
      "10번째 글 크롤링 완료\n",
      "10번째 페이지 접속\n",
      "10번째 글 크롤링 완료\n",
      "20+1번째 페이지 접속\n",
      "10번째 글 크롤링 완료\n",
      "2번째 페이지 접속\n",
      "10번째 글 크롤링 완료\n",
      "3번째 페이지 접속\n",
      "10번째 글 크롤링 완료\n",
      "4번째 페이지 접속\n",
      "10번째 글 크롤링 완료\n",
      "5번째 페이지 접속\n",
      "10번째 글 크롤링 완료\n",
      "6번째 페이지 접속\n",
      "10번째 글 크롤링 완료\n",
      "7번째 페이지 접속\n",
      "10번째 글 크롤링 완료\n",
      "8번째 페이지 접속\n",
      "10번째 글 크롤링 완료\n",
      "9번째 페이지 접속\n",
      "10번째 글 크롤링 완료\n",
      "10번째 페이지 접속\n",
      "10번째 글 크롤링 완료\n",
      "30+1번째 페이지 접속\n",
      "10번째 글 크롤링 완료\n",
      "2번째 페이지 접속\n",
      "10번째 글 크롤링 완료\n",
      "3번째 페이지 접속\n",
      "10번째 글 크롤링 완료\n",
      "4번째 페이지 접속\n",
      "10번째 글 크롤링 완료\n",
      "5번째 페이지 접속\n",
      "10번째 글 크롤링 완료\n",
      "6번째 페이지 접속\n",
      "10번째 글 크롤링 완료\n",
      "7번째 페이지 접속\n",
      "10번째 글 크롤링 완료\n",
      "8번째 페이지 접속\n",
      "10번째 글 크롤링 완료\n",
      "9번째 페이지 접속\n",
      "10번째 글 크롤링 완료\n",
      "10번째 페이지 접속\n",
      "10번째 글 크롤링 완료\n",
      "40+1번째 페이지 접속\n",
      "10번째 글 크롤링 완료\n",
      "2번째 페이지 접속\n",
      "10번째 글 크롤링 완료\n",
      "3번째 페이지 접속\n",
      "10번째 글 크롤링 완료\n",
      "4번째 페이지 접속\n",
      "10번째 글 크롤링 완료\n",
      "5번째 페이지 접속\n",
      "10번째 글 크롤링 완료\n",
      "6번째 페이지 접속\n",
      "10번째 글 크롤링 완료\n",
      "7번째 페이지 접속\n",
      "10번째 글 크롤링 완료\n",
      "8번째 페이지 접속\n",
      "10번째 글 크롤링 완료\n",
      "9번째 페이지 접속\n",
      "10번째 글 크롤링 완료\n"
     ]
    },
    {
     "ename": "WebDriverException",
     "evalue": "Message: unknown error: cannot determine loading status\nfrom unknown error: unhandled inspector error: {\"code\":-32000,\"message\":\"Inspected target navigated or closed\"}\n  (Session info: chrome=80.0.3987.116)\n",
     "output_type": "error",
     "traceback": [
      "\u001b[1;31m---------------------------------------------------------------------------\u001b[0m",
      "\u001b[1;31mWebDriverException\u001b[0m                        Traceback (most recent call last)",
      "\u001b[1;32m<ipython-input-7-27962cb8884c>\u001b[0m in \u001b[0;36m<module>\u001b[1;34m\u001b[0m\n\u001b[0;32m      8\u001b[0m \u001b[1;33m\u001b[0m\u001b[0m\n\u001b[0;32m      9\u001b[0m         \u001b[1;31m# 각 글에 들어가기\u001b[0m\u001b[1;33m\u001b[0m\u001b[1;33m\u001b[0m\u001b[1;33m\u001b[0m\u001b[0m\n\u001b[1;32m---> 10\u001b[1;33m         \u001b[0mdriver\u001b[0m\u001b[1;33m.\u001b[0m\u001b[0mfind_element_by_xpath\u001b[0m\u001b[1;33m(\u001b[0m\u001b[1;34mf'//*[@id=\"main-area\"]/div[6]/form/table/tbody/tr[{k}]/td[2]/span/span/a[1]'\u001b[0m\u001b[1;33m)\u001b[0m\u001b[1;33m.\u001b[0m\u001b[0mclick\u001b[0m\u001b[1;33m(\u001b[0m\u001b[1;33m)\u001b[0m\u001b[1;33m\u001b[0m\u001b[1;33m\u001b[0m\u001b[0m\n\u001b[0m\u001b[0;32m     11\u001b[0m \u001b[1;33m\u001b[0m\u001b[0m\n\u001b[0;32m     12\u001b[0m         \u001b[1;31m# 제목 내용 추출하기\u001b[0m\u001b[1;33m\u001b[0m\u001b[1;33m\u001b[0m\u001b[1;33m\u001b[0m\u001b[0m\n",
      "\u001b[1;32m~\\Anaconda3\\lib\\site-packages\\selenium\\webdriver\\remote\\webelement.py\u001b[0m in \u001b[0;36mclick\u001b[1;34m(self)\u001b[0m\n\u001b[0;32m     78\u001b[0m     \u001b[1;32mdef\u001b[0m \u001b[0mclick\u001b[0m\u001b[1;33m(\u001b[0m\u001b[0mself\u001b[0m\u001b[1;33m)\u001b[0m\u001b[1;33m:\u001b[0m\u001b[1;33m\u001b[0m\u001b[1;33m\u001b[0m\u001b[0m\n\u001b[0;32m     79\u001b[0m         \u001b[1;34m\"\"\"Clicks the element.\"\"\"\u001b[0m\u001b[1;33m\u001b[0m\u001b[1;33m\u001b[0m\u001b[0m\n\u001b[1;32m---> 80\u001b[1;33m         \u001b[0mself\u001b[0m\u001b[1;33m.\u001b[0m\u001b[0m_execute\u001b[0m\u001b[1;33m(\u001b[0m\u001b[0mCommand\u001b[0m\u001b[1;33m.\u001b[0m\u001b[0mCLICK_ELEMENT\u001b[0m\u001b[1;33m)\u001b[0m\u001b[1;33m\u001b[0m\u001b[1;33m\u001b[0m\u001b[0m\n\u001b[0m\u001b[0;32m     81\u001b[0m \u001b[1;33m\u001b[0m\u001b[0m\n\u001b[0;32m     82\u001b[0m     \u001b[1;32mdef\u001b[0m \u001b[0msubmit\u001b[0m\u001b[1;33m(\u001b[0m\u001b[0mself\u001b[0m\u001b[1;33m)\u001b[0m\u001b[1;33m:\u001b[0m\u001b[1;33m\u001b[0m\u001b[1;33m\u001b[0m\u001b[0m\n",
      "\u001b[1;32m~\\Anaconda3\\lib\\site-packages\\selenium\\webdriver\\remote\\webelement.py\u001b[0m in \u001b[0;36m_execute\u001b[1;34m(self, command, params)\u001b[0m\n\u001b[0;32m    631\u001b[0m             \u001b[0mparams\u001b[0m \u001b[1;33m=\u001b[0m \u001b[1;33m{\u001b[0m\u001b[1;33m}\u001b[0m\u001b[1;33m\u001b[0m\u001b[1;33m\u001b[0m\u001b[0m\n\u001b[0;32m    632\u001b[0m         \u001b[0mparams\u001b[0m\u001b[1;33m[\u001b[0m\u001b[1;34m'id'\u001b[0m\u001b[1;33m]\u001b[0m \u001b[1;33m=\u001b[0m \u001b[0mself\u001b[0m\u001b[1;33m.\u001b[0m\u001b[0m_id\u001b[0m\u001b[1;33m\u001b[0m\u001b[1;33m\u001b[0m\u001b[0m\n\u001b[1;32m--> 633\u001b[1;33m         \u001b[1;32mreturn\u001b[0m \u001b[0mself\u001b[0m\u001b[1;33m.\u001b[0m\u001b[0m_parent\u001b[0m\u001b[1;33m.\u001b[0m\u001b[0mexecute\u001b[0m\u001b[1;33m(\u001b[0m\u001b[0mcommand\u001b[0m\u001b[1;33m,\u001b[0m \u001b[0mparams\u001b[0m\u001b[1;33m)\u001b[0m\u001b[1;33m\u001b[0m\u001b[1;33m\u001b[0m\u001b[0m\n\u001b[0m\u001b[0;32m    634\u001b[0m \u001b[1;33m\u001b[0m\u001b[0m\n\u001b[0;32m    635\u001b[0m     \u001b[1;32mdef\u001b[0m \u001b[0mfind_element\u001b[0m\u001b[1;33m(\u001b[0m\u001b[0mself\u001b[0m\u001b[1;33m,\u001b[0m \u001b[0mby\u001b[0m\u001b[1;33m=\u001b[0m\u001b[0mBy\u001b[0m\u001b[1;33m.\u001b[0m\u001b[0mID\u001b[0m\u001b[1;33m,\u001b[0m \u001b[0mvalue\u001b[0m\u001b[1;33m=\u001b[0m\u001b[1;32mNone\u001b[0m\u001b[1;33m)\u001b[0m\u001b[1;33m:\u001b[0m\u001b[1;33m\u001b[0m\u001b[1;33m\u001b[0m\u001b[0m\n",
      "\u001b[1;32m~\\Anaconda3\\lib\\site-packages\\selenium\\webdriver\\remote\\webdriver.py\u001b[0m in \u001b[0;36mexecute\u001b[1;34m(self, driver_command, params)\u001b[0m\n\u001b[0;32m    319\u001b[0m         \u001b[0mresponse\u001b[0m \u001b[1;33m=\u001b[0m \u001b[0mself\u001b[0m\u001b[1;33m.\u001b[0m\u001b[0mcommand_executor\u001b[0m\u001b[1;33m.\u001b[0m\u001b[0mexecute\u001b[0m\u001b[1;33m(\u001b[0m\u001b[0mdriver_command\u001b[0m\u001b[1;33m,\u001b[0m \u001b[0mparams\u001b[0m\u001b[1;33m)\u001b[0m\u001b[1;33m\u001b[0m\u001b[1;33m\u001b[0m\u001b[0m\n\u001b[0;32m    320\u001b[0m         \u001b[1;32mif\u001b[0m \u001b[0mresponse\u001b[0m\u001b[1;33m:\u001b[0m\u001b[1;33m\u001b[0m\u001b[1;33m\u001b[0m\u001b[0m\n\u001b[1;32m--> 321\u001b[1;33m             \u001b[0mself\u001b[0m\u001b[1;33m.\u001b[0m\u001b[0merror_handler\u001b[0m\u001b[1;33m.\u001b[0m\u001b[0mcheck_response\u001b[0m\u001b[1;33m(\u001b[0m\u001b[0mresponse\u001b[0m\u001b[1;33m)\u001b[0m\u001b[1;33m\u001b[0m\u001b[1;33m\u001b[0m\u001b[0m\n\u001b[0m\u001b[0;32m    322\u001b[0m             response['value'] = self._unwrap_value(\n\u001b[0;32m    323\u001b[0m                 response.get('value', None))\n",
      "\u001b[1;32m~\\Anaconda3\\lib\\site-packages\\selenium\\webdriver\\remote\\errorhandler.py\u001b[0m in \u001b[0;36mcheck_response\u001b[1;34m(self, response)\u001b[0m\n\u001b[0;32m    240\u001b[0m                 \u001b[0malert_text\u001b[0m \u001b[1;33m=\u001b[0m \u001b[0mvalue\u001b[0m\u001b[1;33m[\u001b[0m\u001b[1;34m'alert'\u001b[0m\u001b[1;33m]\u001b[0m\u001b[1;33m.\u001b[0m\u001b[0mget\u001b[0m\u001b[1;33m(\u001b[0m\u001b[1;34m'text'\u001b[0m\u001b[1;33m)\u001b[0m\u001b[1;33m\u001b[0m\u001b[1;33m\u001b[0m\u001b[0m\n\u001b[0;32m    241\u001b[0m             \u001b[1;32mraise\u001b[0m \u001b[0mexception_class\u001b[0m\u001b[1;33m(\u001b[0m\u001b[0mmessage\u001b[0m\u001b[1;33m,\u001b[0m \u001b[0mscreen\u001b[0m\u001b[1;33m,\u001b[0m \u001b[0mstacktrace\u001b[0m\u001b[1;33m,\u001b[0m \u001b[0malert_text\u001b[0m\u001b[1;33m)\u001b[0m\u001b[1;33m\u001b[0m\u001b[1;33m\u001b[0m\u001b[0m\n\u001b[1;32m--> 242\u001b[1;33m         \u001b[1;32mraise\u001b[0m \u001b[0mexception_class\u001b[0m\u001b[1;33m(\u001b[0m\u001b[0mmessage\u001b[0m\u001b[1;33m,\u001b[0m \u001b[0mscreen\u001b[0m\u001b[1;33m,\u001b[0m \u001b[0mstacktrace\u001b[0m\u001b[1;33m)\u001b[0m\u001b[1;33m\u001b[0m\u001b[1;33m\u001b[0m\u001b[0m\n\u001b[0m\u001b[0;32m    243\u001b[0m \u001b[1;33m\u001b[0m\u001b[0m\n\u001b[0;32m    244\u001b[0m     \u001b[1;32mdef\u001b[0m \u001b[0m_value_or_default\u001b[0m\u001b[1;33m(\u001b[0m\u001b[0mself\u001b[0m\u001b[1;33m,\u001b[0m \u001b[0mobj\u001b[0m\u001b[1;33m,\u001b[0m \u001b[0mkey\u001b[0m\u001b[1;33m,\u001b[0m \u001b[0mdefault\u001b[0m\u001b[1;33m)\u001b[0m\u001b[1;33m:\u001b[0m\u001b[1;33m\u001b[0m\u001b[1;33m\u001b[0m\u001b[0m\n",
      "\u001b[1;31mWebDriverException\u001b[0m: Message: unknown error: cannot determine loading status\nfrom unknown error: unhandled inspector error: {\"code\":-32000,\"message\":\"Inspected target navigated or closed\"}\n  (Session info: chrome=80.0.3987.116)\n"
     ]
    }
   ],
   "source": [
    "# 실행 도중에 로딩 문제 생겨서 크롤링 중단함, 멀캠 데탑으로 크롤링 해야 할 듯!\n",
    "# 각 페이지에서 15개 글에 대해 제목, 본문 내용 추출하는\n",
    "# for문 완성해보기\n",
    "title_content=[]\n",
    "body_content=[]\n",
    "for j in range(1,40+1):\n",
    "    for i in range(1,15+1):\n",
    "        k = 2*i-1\n",
    "\n",
    "        # 각 글에 들어가기\n",
    "        driver.find_element_by_xpath(f'//*[@id=\"main-area\"]/div[6]/form/table/tbody/tr[{k}]/td[2]/span/span/a[1]').click()\n",
    "\n",
    "        # 제목 내용 추출하기\n",
    "        try:\n",
    "            title = driver.find_element_by_xpath(\"/html/body/div[1]/div[1]/div/div[2]/div/div[1]/div[1]/table/tbody/tr/td[2]/span\").text\n",
    "    #         print(title)\n",
    "            title_content.append(title)\n",
    "        except:\n",
    "            title = driver.find_element_by_xpath(\"/html/body/div[1]/div[1]/div/div[2]/div/div[1]/div[1]/table/tbody/tr/td[1]/span\").text\n",
    "    #         print(title)\n",
    "            title_content.append(title)\n",
    "\n",
    "        # 본문 내용 추출하기\n",
    "        body = driver.find_element_by_xpath(\"/html/body/div[1]/div[1]/div/div[2]/div/div[5]\").text\n",
    "        body_content.append(body)\n",
    "\n",
    "        # 항목 확인\n",
    "        if i % 10 == 0:\n",
    "            print(f\"{i}번째 글 크롤링 완료\")\n",
    "\n",
    "        # 페이지 목록으로 돌아가기\n",
    "        driver.find_element_by_css_selector('#main-area > div.list-btn-nor2.upper-list > div.fr > div > p > a').click()\n",
    "        \n",
    "    # 다음 페이지로 넘어가기\n",
    "    if j % 10 == 0:\n",
    "        print(f\"{j}+1번째 페이지 접속\")\n",
    "        driver.find_element_by_css_selector('#main-area > div.prev-next > table > tbody > tr > td.pgR > a > span:nth-child(1)').click()\n",
    "    else:\n",
    "        p = j % 10 + 1\n",
    "        print(f\"{j}번째 페이지 접속\")\n",
    "        driver.find_element_by_xpath(f'//*[@id=\"main-area\"]/div[8]/table/tbody/tr/td[{p}]/a').click()"
   ]
  },
  {
   "cell_type": "code",
   "execution_count": 8,
   "metadata": {},
   "outputs": [
    {
     "data": {
      "text/plain": [
       "731"
      ]
     },
     "execution_count": 8,
     "metadata": {},
     "output_type": "execute_result"
    }
   ],
   "source": [
    "len(body_content) # 몇 개의 글이 긁히는지 확인 -- 거의 모든 글이 긁어와지고 있는 것을 확인했음\n",
    "# 48*15+*11 = 731 (49번째 페이지 11번째 글 긁고 중단됨)"
   ]
  },
  {
   "cell_type": "code",
   "execution_count": 9,
   "metadata": {},
   "outputs": [],
   "source": [
    "body_content = \" \".join(body_content)"
   ]
  },
  {
   "cell_type": "code",
   "execution_count": 10,
   "metadata": {},
   "outputs": [],
   "source": [
    "with open(\"review_italy_유랑.txt\",\"w\", encoding=\"UTF-8\") as f :\n",
    "    f.write(body_content)"
   ]
  },
  {
   "cell_type": "markdown",
   "metadata": {},
   "source": [
    "### 테스트 소스"
   ]
  },
  {
   "cell_type": "code",
   "execution_count": 56,
   "metadata": {},
   "outputs": [
    {
     "name": "stderr",
     "output_type": "stream",
     "text": [
      "C:\\Users\\student\\Anaconda3\\lib\\site-packages\\ipykernel_launcher.py:11: DeprecationWarning: use driver.switch_to.frame instead\n",
      "  # This is added back by InteractiveShellApp.init_path()\n",
      "C:\\Users\\student\\Anaconda3\\lib\\site-packages\\ipykernel_launcher.py:23: DeprecationWarning: use driver.switch_to.default_content instead\n"
     ]
    },
    {
     "name": "stdout",
     "output_type": "stream",
     "text": [
      "end\n"
     ]
    }
   ],
   "source": [
    "# hiddenUrl을 활용, 그 Url에 직접 접속하여 제목, 본문 내용 추출\n",
    "# 하다가 오류 발생해서 멈춘 상태\n",
    "\n",
    "address=[]\n",
    "page=0\n",
    "#while page < 0:\n",
    "while page>-1:\n",
    "    try:\n",
    "        page+=1\n",
    "        driver.get(f\"https://cafe.naver.com/ArticleList.nhn?search.clubid=10209062&search.menuid=23&search.boardtype=L&search.totalCount=151&search.page={page}\")\n",
    "        driver.switch_to_frame(\"cafe_main\")\n",
    "        try:\n",
    "            if page == 5:\n",
    "#             if driver.find_element_by_class_name(\"nodata\").text == '등록된 게시글이 없습니다.':\n",
    "            # 무한으로 다음페이지로 넘어가는데 만약에 등록된 게시글이 없습니다가 나오면 다음페이지로 넘어가는것을 멈춤\n",
    "                break\n",
    "        except:\n",
    "            pass\n",
    "        for i in range(1,15,1):\n",
    "            k = 2*i-1\n",
    "            address.append(driver.find_element_by_css_selector(f\"#main-area > div:nth-child(9) > form > table > tbody > tr:nth-child({k}) > td.board-list > span > span > a\").get_attribute('href'))\n",
    "        \n",
    "        driver.switch_to_default_content()\n",
    "    except:\n",
    "        pass\n",
    "print(\"end\")"
   ]
  },
  {
   "cell_type": "code",
   "execution_count": 57,
   "metadata": {},
   "outputs": [
    {
     "data": {
      "text/plain": [
       "56"
      ]
     },
     "execution_count": 57,
     "metadata": {},
     "output_type": "execute_result"
    }
   ],
   "source": [
    "len(address)"
   ]
  },
  {
   "cell_type": "code",
   "execution_count": null,
   "metadata": {},
   "outputs": [],
   "source": [
    "# test 해봐야 함\n",
    "# driver.find_element_by_xpath('/html/body/div[1]/div[1]/div/div[2]/div/div[1]/div[1]/table/tbody/tr/td[1]/span')"
   ]
  },
  {
   "cell_type": "code",
   "execution_count": 58,
   "metadata": {},
   "outputs": [],
   "source": [
    "# title=[]\n",
    "# body=[]\n",
    "# for url in address:\n",
    "#     driver.get(url)\n",
    "#     driver.switch_to_frame(\"cafe_main\")\n",
    "#     title.append(driver.find_element_by_xpath(\"/html/body/div[1]/div[1]/div/div[2]/div/div[1]/div[1]/table/tbody/tr/td[1]/span\").text)\n",
    "#     body.append(driver.find_element_by_xpath(\"/html/body/div[1]/div[1]/div/div[2]/div/div[5]\").text)\n",
    "    \n",
    "# df=pd.DataFrame({\"제목\":title ,\"내용\":body})\n",
    "# df.to_excel(\"test.xlsx\")"
   ]
  }
 ],
 "metadata": {
  "kernelspec": {
   "display_name": "Python 3",
   "language": "python",
   "name": "python3"
  },
  "language_info": {
   "codemirror_mode": {
    "name": "ipython",
    "version": 3
   },
   "file_extension": ".py",
   "mimetype": "text/x-python",
   "name": "python",
   "nbconvert_exporter": "python",
   "pygments_lexer": "ipython3",
   "version": "3.7.4"
  }
 },
 "nbformat": 4,
 "nbformat_minor": 2
}
