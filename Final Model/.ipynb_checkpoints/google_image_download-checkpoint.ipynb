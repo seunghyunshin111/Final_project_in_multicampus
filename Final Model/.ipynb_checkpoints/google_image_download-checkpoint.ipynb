{
 "cells": [
  {
   "cell_type": "code",
   "execution_count": 8,
   "metadata": {},
   "outputs": [],
   "source": [
    "from selenium import webdriver\n",
    "from selenium.webdriver.common.keys import Keys\n",
    "from bs4 import BeautifulSoup\n",
    "import time\n",
    "import requests\n",
    "import urllib.request\n",
    "from urllib.request import HTTPError"
   ]
  },
  {
   "cell_type": "code",
   "execution_count": 9,
   "metadata": {},
   "outputs": [],
   "source": [
    "def google_get(name,url):      #구글 이미지 크롤링\n",
    "    site = \"https://www.google.com\"\n",
    "    headers = {'referer': 'http://m.naver.com', 'User-Agent':'Mozilla/5.0 (Windows NT 10.0; Win64; x64) AppleWebKit/537.36 (KHTML, like Gecko) Chrome/76.0.3809.132 Safari/537.36'}\n",
    "    driver = webdriver.Chrome()\n",
    "    driver.get(url)\n",
    "    time.sleep(1)\n",
    "    body = driver.find_element_by_tag_name(\"body\")\n",
    "    num_of_pagedowns = 2\n",
    "    while num_of_pagedowns:\n",
    "        body.send_keys(Keys.PAGE_DOWN)\n",
    "        time.sleep(0.3)\n",
    "        num_of_pagedowns -=1\n",
    "    \n",
    "    html = driver.page_source\n",
    "    soup = BeautifulSoup(html, 'html.parser')\n",
    "    count= 0\n",
    "    my_titles = soup.find_all('a',class_=\"rg_l\")\n",
    "    \n",
    "    my_image_url=[]\n",
    "    for i in range(len(my_titles)):\n",
    "        if len(my_titles[i]['href'])>10:\n",
    "            my_image_url.append(my_titles[i]['href'])\n",
    "    \n",
    "    my_list=[]\n",
    "    \n",
    "    for i in range(len(my_image_url)):\n",
    "        req = requests.get(site+my_image_url[i],headers)\n",
    "        html = req.text\n",
    "        soup = BeautifulSoup(html, 'html.parser')\n",
    "        my_titles = soup.find_all('img', id=\"il_fi\")\n",
    "        try:\n",
    "            t = urllib.request.urlopen(my_titles[0]['src']).read()\n",
    "        except HTTPError as e:\n",
    "            print(i, \"http 오류발생\")\n",
    "            continue\n",
    "        except IndexError:\n",
    "            print(i, \"인덱스 오류 발생\")\n",
    "            continue\n",
    "        filename = \"./img/\"+name+\"/\"+str(count)+'.jpg'\n",
    "        with open(filename,\"wb\") as f:\n",
    "            f.write(t)\n",
    "        count+=1\n",
    "    print(\"Img Save Success\")"
   ]
  },
  {
   "cell_type": "code",
   "execution_count": 11,
   "metadata": {},
   "outputs": [
    {
     "name": "stdout",
     "output_type": "stream",
     "text": [
      "Img Save Success\n"
     ]
    }
   ],
   "source": [
    "google_get(\"positano\", \"https://www.google.com/search?q=positano&sxsrf=ACYBGNSaMaalz6VozkqepBkmuJBQ3ZFFbg:1568301224638&source=lnms&tbm=isch&sa=X&ved=0ahUKEwj0vJSrycvkAhUJvJQKHTNgDxsQ_AUIEigB&biw=1536&bih=722&dpr=1.25\")"
   ]
  }
 ],
 "metadata": {
  "kernelspec": {
   "display_name": "Python 3",
   "language": "python",
   "name": "python3"
  },
  "language_info": {
   "codemirror_mode": {
    "name": "ipython",
    "version": 3
   },
   "file_extension": ".py",
   "mimetype": "text/x-python",
   "name": "python",
   "nbconvert_exporter": "python",
   "pygments_lexer": "ipython3",
   "version": "3.7.4"
  }
 },
 "nbformat": 4,
 "nbformat_minor": 2
}
