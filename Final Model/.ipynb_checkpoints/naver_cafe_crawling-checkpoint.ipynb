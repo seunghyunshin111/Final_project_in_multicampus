{
 "cells": [
  {
   "cell_type": "code",
   "execution_count": 2,
   "metadata": {},
   "outputs": [],
   "source": [
    "from selenium import webdriver\n",
    "from selenium.webdriver.common.keys import Keys\n",
    "from bs4 import BeautifulSoup\n",
    "import time, os, sys, requests, re\n",
    "import requests"
   ]
  },
  {
   "cell_type": "code",
   "execution_count": 3,
   "metadata": {},
   "outputs": [],
   "source": [
    "driver = webdriver.Chrome()"
   ]
  },
  {
   "cell_type": "code",
   "execution_count": 4,
   "metadata": {},
   "outputs": [],
   "source": [
    "driver.get('https://nid.naver.com/nidlogin.login')"
   ]
  },
  {
   "cell_type": "code",
   "execution_count": 36,
   "metadata": {},
   "outputs": [],
   "source": [
    "id = ''\n",
    "pw = ''"
   ]
  },
  {
   "cell_type": "code",
   "execution_count": 6,
   "metadata": {},
   "outputs": [],
   "source": [
    "# 네이버 로그인\n",
    "driver.execute_script(\"document.getElementsByName('id')[0].value=\\'\"+ id +\"\\'\")\n",
    "driver.execute_script(\"document.getElementsByName('pw')[0].value=\\'\"+ pw +\"\\'\")                     \n",
    "driver.find_element_by_xpath('//*[@id=\"frmNIDLogin\"]/fieldset/input').click()"
   ]
  },
  {
   "cell_type": "code",
   "execution_count": 7,
   "metadata": {},
   "outputs": [],
   "source": [
    "# 숨겨진 URL\n",
    "pageNum = 1\n",
    "hiddenurl = 'https://cafe.naver.com/firenze?iframe_url=/ArticleList.nhn%3Fsearch.clubid=10209062%26search.menuid=23%26search.boardtype=L%26search.totalCount=151%26search.page={}'.format(pageNum)\n",
    "driver.get(hiddenurl) # 숨겨진 URL로 들어가기"
   ]
  },
  {
   "cell_type": "code",
   "execution_count": 47,
   "metadata": {},
   "outputs": [],
   "source": [
    "# 숨겨진 URL2\n",
    "hiddenurl = 'https://cafe.naver.com/firenze?iframe_url=/ArticleList.nhn%3Fsearch.clubid=10209062%26search.menuid=23%26search.boardtype=L'\n",
    "driver.get(hiddenurl)"
   ]
  },
  {
   "cell_type": "code",
   "execution_count": 8,
   "metadata": {},
   "outputs": [],
   "source": [
    "# frame 전환 [pc모드에서만 필요한 내용]\n",
    "driver.switch_to.frame(\"cafe_main\")"
   ]
  },
  {
   "cell_type": "code",
   "execution_count": 10,
   "metadata": {},
   "outputs": [],
   "source": [
    "# 1 페이지에서, 첫 번째 글 들어가기\n",
    "driver.find_element_by_xpath('//*[@id=\"main-area\"]/div[6]/form/table/tbody/tr[1]/td[2]/span/span/a[1]').click()"
   ]
  },
  {
   "cell_type": "code",
   "execution_count": 11,
   "metadata": {},
   "outputs": [
    {
     "name": "stdout",
     "output_type": "stream",
     "text": [
      "[이태리정보]\n"
     ]
    }
   ],
   "source": [
    "# 제목 내용 추출하기 test\n",
    "title = driver.find_element_by_xpath(\"/html/body/div[1]/div[1]/div/div[2]/div/div[1]/div[1]/table/tbody/tr/td[1]/span\").text\n",
    "print(title)"
   ]
  },
  {
   "cell_type": "code",
   "execution_count": 12,
   "metadata": {},
   "outputs": [
    {
     "name": "stdout",
     "output_type": "stream",
     "text": [
      "한 개인이 주관적으로 느낀 것이니 참고만 하시고요.\n",
      "이곳 상황에 따라 시시각각 변할테니 그 또한 염두에 두시고 보세요.\n",
      "또 저는 유럽 장기 거주자라 한국에서 오신 분들과 바라보는 시각이 다를 수도 있을 수 있습니다.\n",
      "현지 현재 분위기만 전달합니다.\n",
      "\n",
      "\n",
      "지난 주말에 유럽 다른 나라에서 이태리 토스카나로 들어왔습니다.\n",
      "비행기 안에 중국인 한국인 일본인들 있었고요, 체온재고 통과.\n",
      "피렌체와 베니스 3일 돌아다녔는데, 한국 일본 단체 관광객 팀들 종종 보이고, 개인 여행자들은 많습니다.\n",
      "제가 유럽 관광 다니면서 한국인들을 피렌체에서 제일 많이 본 것 같은 느낌이 들 정도입니다.\n",
      "피렌체, 베니스 관광지와 유명 식당 까페는 각국 사람들 줄 서고 있고요.\n",
      "\n",
      "교통편은 기차, 택시, 수상버스 타봤는데, 저희 옆에 앉지 않거나 그런 사람들은 못봤고요. 식당과 호텔, 투어 예약을 토스카나 지방에 앞으로 일주일 빡빡하게 예약해놨는데 아직까지는 취소 메일은 오지 않고 있습니다.\n",
      "\n",
      "다만 남쪽에서 북쪽 올라갈 때는 코로나 관련 경고 안내 방송이 많이 나오고, 북쪽에서 남쪽 내려갈 때는 관련 방송이 안나오니 저조차 마음이 편해지더란.\n",
      "\n",
      "전체적으로는 지난 삼일 어떠한 악의적인 반응을 느끼지 못하였고, 유아 동반이라 현지 사람들의 도움과 호의만을 받고 다니고 있습니다.\n",
      "\n",
      "현재 저희 가족은 현지 이태리 당국의 지침만을 주시하며 손 열심히 씻으면, 일주일 더 여행을 지속할 예정입니다. 아직은 제가 여행을 중단할 오피셜한 발표가 없기 때문입니다 (목적지 봉쇄, 교통편 취소, 관광지 폐쇄 등이 제 중단 기준입니다.)\n",
      "그저 혹여나 저를 인종 프로피일링하여 코로나와 연관짓는 공격적 행위가 나올 경우에는 너는 그럼 롬바르디아 (지금 확산중인 이태리 지역)에서 왔냐고 받아칠 마음의 준비만 한 상태입니다—;\n",
      "\n",
      "이태리 일정을 강행하실 분들이 필요하시다면, 이태리 중북부 여행이 지속되는 한—; 종종 이태리 상황에 대해 정보 나누겠습니다.\n"
     ]
    }
   ],
   "source": [
    "# 본문 내용 추출하기 test\n",
    "body = driver.find_element_by_xpath(\"/html/body/div[1]/div[1]/div/div[2]/div/div[5]\").text\n",
    "print(body)"
   ]
  },
  {
   "cell_type": "code",
   "execution_count": 67,
   "metadata": {},
   "outputs": [
    {
     "name": "stdout",
     "output_type": "stream",
     "text": [
      "['[이태리정보]', '1월초쯤, 코로나 터지기 전에 출국하여 유럽여행 3주정도하고 학교일정에 맞추어 이탈리아 밀라노로 들어왔습니다. 슬슬 학교에 적응하고 좋은친구들도 많이사귀고 밀라노 두오모도 매주 한번씩 나들이갔다오고 수업도 듣고 잘지내고있었습니다. 당장 금요일에 네번째 밀라노 가는날에도 정말 잘놀다왔습니다. 그런데 주말이 지나고 이탈리아 확산자가늘자 학교는 지금 개강한지 일주반 만에 휴교에 들어갔습니다. 근처 학교 모두요.\\n학교있는곳은 밀라노 근교에 있는 작은 시골동네라 한달동안 이 동네에 지내면서 코로나때문에 어떠한 불편함? 도 느끼지못했는데 오늘부로 분위기가 좀 ㅠㅠ.. 목도리를 두르고 장보는 절 살짝 피하고? 심지어 방독면 쓴 사람도 봤습니다. 사람들이 대놓고 피하고 무례하게 굴고 그런건없지만 괜히 위축돼요ㅠㅠ 근교도시가이러면 밀라노는 얼마나 심할지ㅜㅜ학교친구들이랑 정말잘지내고 있는데 이사건때문에 혹시 트러블 일어나진 않을지 걱정되네요\\n\\n이탈리아 여행은 당분간 피하시는게 좋을거같아요']\n"
     ]
    }
   ],
   "source": [
    "# 첫 번째 글에서 제목, 본문, 댓글 내용 리스트에 담기\n",
    "content = []\n",
    "content.append(title)\n",
    "content.append(body)\n",
    "print(content)"
   ]
  },
  {
   "cell_type": "code",
   "execution_count": 33,
   "metadata": {},
   "outputs": [],
   "source": [
    "# 두 번째 글로 넘어가기 방법1: '목록' 클릭 (글 목록으로 다시 돌아가기)\n",
    "driver.find_element_by_css_selector('#main-area > div.list-btn-nor2.upper-list > div.fr > div > p > a').click()"
   ]
  },
  {
   "cell_type": "code",
   "execution_count": 30,
   "metadata": {},
   "outputs": [],
   "source": [
    "# 방법1 중, 1 페이지에서 두 번째 글 들어가기\n",
    "driver.find_element_by_xpath('//*[@id=\"main-area\"]/div[6]/form/table/tbody/tr[3]/td[2]/span/span/a[1]').click()"
   ]
  },
  {
   "cell_type": "code",
   "execution_count": 183,
   "metadata": {},
   "outputs": [],
   "source": [
    "# 다음 페이지(2 페이지)로 넘어가기\n",
    "driver.find_element_by_xpath('//*[@id=\"main-area\"]/div[8]/table/tbody/tr/td[2]/a').click()"
   ]
  },
  {
   "cell_type": "code",
   "execution_count": 21,
   "metadata": {},
   "outputs": [],
   "source": [
    "# 두 번째 글로 넘어가기 방법2: 바로 '다음글' 클릭\n",
    "driver.find_element_by_xpath('//*[@id=\"main-area\"]/div[1]/div[1]/div/p/a').click()"
   ]
  },
  {
   "cell_type": "code",
   "execution_count": 32,
   "metadata": {},
   "outputs": [
    {
     "name": "stdout",
     "output_type": "stream",
     "text": [
      "밀라노 상황에 대해 :(\n"
     ]
    }
   ],
   "source": [
    "# 두 번째 글에서 제목 내용 추출하기\n",
    "try:\n",
    "    title1 = driver.find_element_by_xpath(\"/html/body/div[1]/div[1]/div/div[2]/div/div[1]/div[1]/table/tbody/tr/td[2]/span\").text\n",
    "    print(title1)\n",
    "except:\n",
    "    title1 = driver.find_element_by_xpath(\"/html/body/div[1]/div[1]/div/div[2]/div/div[1]/div[1]/table/tbody/tr/td[1]/span\").text\n",
    "    print(title1)"
   ]
  },
  {
   "cell_type": "code",
   "execution_count": 16,
   "metadata": {},
   "outputs": [
    {
     "name": "stdout",
     "output_type": "stream",
     "text": [
      "밀라노 유학생입니다\n",
      "다들 취소하냐 마냐 걱정들 많으실 거예요🧐\n",
      "오래전부터 계획이었던 분들이 대다수겠죠\n",
      "여행이라는게 먹고 즐기고 쇼핑하고\n",
      "추억을 남기는게 여행인데 지금 상황은 많이 조심스러워요.\n",
      "저희 학교도 휴교 메일과 시험도 중단 / 외출 자제\n",
      "축제 및 박물관도 점점 닫는 추세입니다\n",
      "(두오모 및 박물관/만찬 가능성 높음)\n",
      "학교 단톡방에서도 중국 애들 때문에 짜증 난다며 욕을 퍼붓네요 ㅠㅠ 단톡방에 중국 3 한국 1(본인)말 안 하고 있어요 🤫\n",
      "마지막으로 부모님 및 친구 그리고 지인들도 걱정이지만\n",
      "여행 예정인, 저와 같은 대한민국 시민이 여행와서 바이러스 취급 받으며 다니는 걸 원치 않네요..😔😔\n",
      "최대한 깊게 생각하여 결정하시길 바랄게요!💪🏻🇰🇷🇮🇹\n",
      "Ciao! Buon viaggio!!\n"
     ]
    }
   ],
   "source": [
    "# 두 번째 글에서 본문 내용 추출하기\n",
    "body1 = driver.find_element_by_xpath(\"/html/body/div[1]/div[1]/div/div[2]/div/div[5]\").text\n",
    "print(body1)"
   ]
  },
  {
   "cell_type": "code",
   "execution_count": 34,
   "metadata": {},
   "outputs": [],
   "source": [
    "driver.find_element_by_xpath('//*[@id=\"main-area\"]/div[6]/form/table/tbody/tr[9]/td[2]/span/span/a[1]').click()"
   ]
  },
  {
   "cell_type": "code",
   "execution_count": 35,
   "metadata": {},
   "outputs": [
    {
     "name": "stdout",
     "output_type": "stream",
     "text": [
      "현재 로마입니다. 23일 입국\n"
     ]
    }
   ],
   "source": [
    "# 제목 내용 추출하기\n",
    "\n",
    "try:\n",
    "    title1 = driver.find_element_by_xpath(\"/html/body/div[1]/div[1]/div/div[2]/div/div[1]/div[1]/table/tbody/tr/td[2]/span\").text\n",
    "    print(title1)\n",
    "except:\n",
    "    title1 = driver.find_element_by_xpath(\"/html/body/div[1]/div[1]/div/div[2]/div/div[1]/div[1]/table/tbody/tr/td[1]/span\").text\n",
    "    print(title1)"
   ]
  },
  {
   "cell_type": "code",
   "execution_count": 25,
   "metadata": {},
   "outputs": [
    {
     "data": {
      "text/plain": [
       "'대한항공 탔는데 텅텅비었더라구요...\\n들어와서 입국금지 당하는줄알았는데\\n밀라노쪽이 심하지 여기는 아직까지\\n마스크낀 사람 못봤었어요\\n어제 밤이라 판테온-> 트레비 살짝 구경했는데 \\n딱히 저희를 보고 (신혼부부) ㅋ 피하거나 그러진 \\n않더라구요 ㅋ ㅠㅠㅠ\\n부모님들이 걱정을 너무 하셔서 그게 죄송했어요\\n여기는 생각보다 괜찮은것같은데\\n일단 ㅋㅋㅋ ㅠㅠ 내일되어바야 할것같아서요\\n우선 로마는 지금은???.... 괜찮은것같아요 '"
      ]
     },
     "execution_count": 25,
     "metadata": {},
     "output_type": "execute_result"
    }
   ],
   "source": [
    "driver.find_element_by_xpath(\"/html/body/div[1]/div[1]/div/div[2]/div/div[5]\").text"
   ]
  },
  {
   "cell_type": "markdown",
   "metadata": {},
   "source": [
    "### 사용하지 않는 소스"
   ]
  },
  {
   "cell_type": "code",
   "execution_count": 13,
   "metadata": {},
   "outputs": [],
   "source": [
    "# headers 설정\n",
    "# headers = {\n",
    "#     \"Referer\": \"https://m.cafe.naver.com/ca-fe/web/cafes/10209062/menus/23\",\n",
    "#     \"User-Agent\": \"Mozilla/5.0 (Windows NT 10.0; Win64; x64) AppleWebKit/537.36 (KHTML, like Gecko) Chrome/80.0.3987.116 Safari/537.36\"\n",
    "# }"
   ]
  }
 ],
 "metadata": {
  "kernelspec": {
   "display_name": "Python 3",
   "language": "python",
   "name": "python3"
  },
  "language_info": {
   "codemirror_mode": {
    "name": "ipython",
    "version": 3
   },
   "file_extension": ".py",
   "mimetype": "text/x-python",
   "name": "python",
   "nbconvert_exporter": "python",
   "pygments_lexer": "ipython3",
   "version": "3.7.4"
  }
 },
 "nbformat": 4,
 "nbformat_minor": 2
}
