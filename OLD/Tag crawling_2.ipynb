{
 "cells": [
  {
   "cell_type": "code",
   "execution_count": 8,
   "metadata": {},
   "outputs": [],
   "source": [
    "from flickrapi import FlickrAPI"
   ]
  },
  {
   "cell_type": "code",
   "execution_count": 9,
   "metadata": {},
   "outputs": [],
   "source": [
    "key = 'b88ca2b24d6576e7f599262d39ee7369'\n",
    "secret = 'b59f9d28f3c5543d'\n",
    "\n",
    "\n",
    "flickr = FlickrAPI(key, secret, format='parsed-json')\n",
    "extras='url_o'\n",
    "\n",
    "# Italy 위도, 경도\n",
    "bbox_string = str(6.6272658) + ',' + str(35.2889616) + ',' + str(18.7844746) + ',' + str(47.0921462)\n",
    "\n",
    "italy = flickr.photos.search(bbox=bbox_string, per_pages=500, extras=extras)\n",
    "\n",
    "photos = italy['photos']['photo']\n",
    "photo_id = []\n",
    "for k in range(len(photos)):\n",
    "    photo_id.append(photos[k]['id'])"
   ]
  },
  {
   "cell_type": "code",
   "execution_count": 10,
   "metadata": {},
   "outputs": [],
   "source": [
    "from tqdm.notebook import tqdm"
   ]
  },
  {
   "cell_type": "code",
   "execution_count": 11,
   "metadata": {},
   "outputs": [
    {
     "data": {
      "application/vnd.jupyter.widget-view+json": {
       "model_id": "bc168b7c5cea48ed88f3c56f5dd48a18",
       "version_major": 2,
       "version_minor": 0
      },
      "text/plain": [
       "HBox(children=(IntProgress(value=0, max=250), HTML(value='')))"
      ]
     },
     "metadata": {},
     "output_type": "display_data"
    },
    {
     "name": "stdout",
     "output_type": "stream",
     "text": [
      "\n"
     ]
    }
   ],
   "source": [
    "\n",
    "total_information = []\n",
    "\n",
    "for i in tqdm(range(len(photo_id))):\n",
    "    information = flickr.photos.getInfo(photo_id=photo_id[i])\n",
    "    \n",
    "    # tag 추출\n",
    "    tags = information['photo']['tags']['tag']\n",
    "    information_tag = []\n",
    "    for j in range(len(tags)):\n",
    "        information_tag.append(tags[j]['_content'])\n",
    "        pass\n",
    "    \n",
    "    # title 추출\n",
    "    information_title = information['photo']['title']['_content']\n",
    "    \n",
    "    # url 추출\n",
    "    information_url = information['photo']['urls']['url'][0]['_content']\n",
    "    \n",
    "    # photo_id, tag, title, url을 하나의 리스트로 만들기\n",
    "    information_list = []\n",
    "    information_list.append(photo_id[i])\n",
    "    information_list.append(information_tag)\n",
    "    information_list.append(information_title)\n",
    "    information_list.append(information_url)\n",
    "    \n",
    "    # 총 리스트 만들기\n",
    "    total_information.append(information_list)\n",
    "    \n",
    "    pass"
   ]
  },
  {
   "cell_type": "code",
   "execution_count": 12,
   "metadata": {},
   "outputs": [],
   "source": [
    "import pandas as pd\n",
    "\n",
    "col_names = ['photo_id', 'tag', 'title', 'image_url']\n",
    "values = total_information\n",
    "flickr_df = pd.DataFrame(values, columns=col_names)"
   ]
  },
  {
   "cell_type": "code",
   "execution_count": 13,
   "metadata": {},
   "outputs": [
    {
     "data": {
      "text/html": [
       "<div>\n",
       "<style scoped>\n",
       "    .dataframe tbody tr th:only-of-type {\n",
       "        vertical-align: middle;\n",
       "    }\n",
       "\n",
       "    .dataframe tbody tr th {\n",
       "        vertical-align: top;\n",
       "    }\n",
       "\n",
       "    .dataframe thead th {\n",
       "        text-align: right;\n",
       "    }\n",
       "</style>\n",
       "<table border=\"1\" class=\"dataframe\">\n",
       "  <thead>\n",
       "    <tr style=\"text-align: right;\">\n",
       "      <th></th>\n",
       "      <th>photo_id</th>\n",
       "      <th>tag</th>\n",
       "      <th>title</th>\n",
       "      <th>image_url</th>\n",
       "    </tr>\n",
       "  </thead>\n",
       "  <tbody>\n",
       "    <tr>\n",
       "      <td>0</td>\n",
       "      <td>49699315948</td>\n",
       "      <td>[nikond90, rv2132, e632, treni, trains, tigre,...</td>\n",
       "      <td>FS E632 020</td>\n",
       "      <td>https://www.flickr.com/photos/mauriziomessa/49...</td>\n",
       "    </tr>\n",
       "    <tr>\n",
       "      <td>1</td>\n",
       "      <td>49699311723</td>\n",
       "      <td>[rom, rome, roma, italy, italia, italien, ital...</td>\n",
       "      <td>Roma in quarantena</td>\n",
       "      <td>https://www.flickr.com/photos/fede_92/49699311...</td>\n",
       "    </tr>\n",
       "    <tr>\n",
       "      <td>2</td>\n",
       "      <td>49699286968</td>\n",
       "      <td>[nikon, d750, roma, italia, sunrise, amanecer,...</td>\n",
       "      <td>Panteon de Agripa</td>\n",
       "      <td>https://www.flickr.com/photos/104387097@N06/49...</td>\n",
       "    </tr>\n",
       "    <tr>\n",
       "      <td>3</td>\n",
       "      <td>49682988083</td>\n",
       "      <td>[dog, dogsitter, cani, pontevecchio, firenze, ...</td>\n",
       "      <td>Dog sitter</td>\n",
       "      <td>https://www.flickr.com/photos/60712898@N05/496...</td>\n",
       "    </tr>\n",
       "    <tr>\n",
       "      <td>4</td>\n",
       "      <td>49699170983</td>\n",
       "      <td>[schiers, switzerland, grison, graubünden, alp...</td>\n",
       "      <td>Secret of the waterfall</td>\n",
       "      <td>https://www.flickr.com/photos/peterthoeny/4969...</td>\n",
       "    </tr>\n",
       "    <tr>\n",
       "      <td>...</td>\n",
       "      <td>...</td>\n",
       "      <td>...</td>\n",
       "      <td>...</td>\n",
       "      <td>...</td>\n",
       "    </tr>\n",
       "    <tr>\n",
       "      <td>245</td>\n",
       "      <td>49697161668</td>\n",
       "      <td>[naples, neapel, napoli, nápoles, campanie, ka...</td>\n",
       "      <td>Entrée du complexe religieux, basilique San Do...</td>\n",
       "      <td>https://www.flickr.com/photos/50879678@N03/496...</td>\n",
       "    </tr>\n",
       "    <tr>\n",
       "      <td>246</td>\n",
       "      <td>49697692856</td>\n",
       "      <td>[naples, neapel, napoli, nápoles, campanie, ka...</td>\n",
       "      <td>Marqueterie \"a marmi mischi\", basilique San Do...</td>\n",
       "      <td>https://www.flickr.com/photos/50879678@N03/496...</td>\n",
       "    </tr>\n",
       "    <tr>\n",
       "      <td>247</td>\n",
       "      <td>49697990127</td>\n",
       "      <td>[straden, steiermark, österreich, ber14135]</td>\n",
       "      <td>Straden</td>\n",
       "      <td>https://www.flickr.com/photos/154533176@N07/49...</td>\n",
       "    </tr>\n",
       "    <tr>\n",
       "      <td>248</td>\n",
       "      <td>49698649416</td>\n",
       "      <td>[]</td>\n",
       "      <td>Piccolo fiore nel mio giardino.</td>\n",
       "      <td>https://www.flickr.com/photos/163177199@N03/49...</td>\n",
       "    </tr>\n",
       "    <tr>\n",
       "      <td>249</td>\n",
       "      <td>49698856887</td>\n",
       "      <td>[]</td>\n",
       "      <td>Pessimist</td>\n",
       "      <td>https://www.flickr.com/photos/rattus45/4969885...</td>\n",
       "    </tr>\n",
       "  </tbody>\n",
       "</table>\n",
       "<p>250 rows × 4 columns</p>\n",
       "</div>"
      ],
      "text/plain": [
       "        photo_id                                                tag  \\\n",
       "0    49699315948  [nikond90, rv2132, e632, treni, trains, tigre,...   \n",
       "1    49699311723  [rom, rome, roma, italy, italia, italien, ital...   \n",
       "2    49699286968  [nikon, d750, roma, italia, sunrise, amanecer,...   \n",
       "3    49682988083  [dog, dogsitter, cani, pontevecchio, firenze, ...   \n",
       "4    49699170983  [schiers, switzerland, grison, graubünden, alp...   \n",
       "..           ...                                                ...   \n",
       "245  49697161668  [naples, neapel, napoli, nápoles, campanie, ka...   \n",
       "246  49697692856  [naples, neapel, napoli, nápoles, campanie, ka...   \n",
       "247  49697990127        [straden, steiermark, österreich, ber14135]   \n",
       "248  49698649416                                                 []   \n",
       "249  49698856887                                                 []   \n",
       "\n",
       "                                                 title  \\\n",
       "0                                          FS E632 020   \n",
       "1                                   Roma in quarantena   \n",
       "2                                    Panteon de Agripa   \n",
       "3                                           Dog sitter   \n",
       "4                              Secret of the waterfall   \n",
       "..                                                 ...   \n",
       "245  Entrée du complexe religieux, basilique San Do...   \n",
       "246  Marqueterie \"a marmi mischi\", basilique San Do...   \n",
       "247                                            Straden   \n",
       "248                    Piccolo fiore nel mio giardino.   \n",
       "249                                          Pessimist   \n",
       "\n",
       "                                             image_url  \n",
       "0    https://www.flickr.com/photos/mauriziomessa/49...  \n",
       "1    https://www.flickr.com/photos/fede_92/49699311...  \n",
       "2    https://www.flickr.com/photos/104387097@N06/49...  \n",
       "3    https://www.flickr.com/photos/60712898@N05/496...  \n",
       "4    https://www.flickr.com/photos/peterthoeny/4969...  \n",
       "..                                                 ...  \n",
       "245  https://www.flickr.com/photos/50879678@N03/496...  \n",
       "246  https://www.flickr.com/photos/50879678@N03/496...  \n",
       "247  https://www.flickr.com/photos/154533176@N07/49...  \n",
       "248  https://www.flickr.com/photos/163177199@N03/49...  \n",
       "249  https://www.flickr.com/photos/rattus45/4969885...  \n",
       "\n",
       "[250 rows x 4 columns]"
      ]
     },
     "execution_count": 13,
     "metadata": {},
     "output_type": "execute_result"
    }
   ],
   "source": [
    "flickr_df"
   ]
  },
  {
   "cell_type": "code",
   "execution_count": 14,
   "metadata": {},
   "outputs": [
    {
     "data": {
      "text/plain": [
       "0      [nikond90, rv2132, e632, treni, trains, tigre,...\n",
       "1      [rom, rome, roma, italy, italia, italien, ital...\n",
       "2      [nikon, d750, roma, italia, sunrise, amanecer,...\n",
       "3      [dog, dogsitter, cani, pontevecchio, firenze, ...\n",
       "4      [schiers, switzerland, grison, graubünden, alp...\n",
       "                             ...                        \n",
       "245    [naples, neapel, napoli, nápoles, campanie, ka...\n",
       "246    [naples, neapel, napoli, nápoles, campanie, ka...\n",
       "247          [straden, steiermark, österreich, ber14135]\n",
       "248                                                   []\n",
       "249                                                   []\n",
       "Name: tag, Length: 250, dtype: object"
      ]
     },
     "execution_count": 14,
     "metadata": {},
     "output_type": "execute_result"
    }
   ],
   "source": [
    "flickr_df['tag']"
   ]
  },
  {
   "cell_type": "code",
   "execution_count": 17,
   "metadata": {},
   "outputs": [
    {
     "data": {
      "text/plain": [
       "250"
      ]
     },
     "execution_count": 17,
     "metadata": {},
     "output_type": "execute_result"
    }
   ],
   "source": [
    "len(flickr_df['tag'])"
   ]
  },
  {
   "cell_type": "code",
   "execution_count": 18,
   "metadata": {},
   "outputs": [
    {
     "data": {
      "text/plain": [
       "['nikond90',\n",
       " 'rv2132',\n",
       " 'e632',\n",
       " 'treni',\n",
       " 'trains',\n",
       " 'tigre',\n",
       " 'emiliaromagna',\n",
       " 'railway',\n",
       " 'railroad',\n",
       " 'mau',\n",
       " 'bahn',\n",
       " 'ferrovia']"
      ]
     },
     "execution_count": 18,
     "metadata": {},
     "output_type": "execute_result"
    }
   ],
   "source": [
    "flickr_df['tag'][0]"
   ]
  },
  {
   "cell_type": "code",
   "execution_count": 19,
   "metadata": {},
   "outputs": [
    {
     "data": {
      "text/plain": [
       "['dog',\n",
       " 'dogsitter',\n",
       " 'cani',\n",
       " 'pontevecchio',\n",
       " 'firenze',\n",
       " 'florence',\n",
       " 'inverno',\n",
       " 'passeggiata',\n",
       " 'cane',\n",
       " 'dogs',\n",
       " 'sguardi']"
      ]
     },
     "execution_count": 19,
     "metadata": {},
     "output_type": "execute_result"
    }
   ],
   "source": [
    "flickr_df['tag'][3]"
   ]
  },
  {
   "cell_type": "code",
   "execution_count": 21,
   "metadata": {},
   "outputs": [
    {
     "ename": "FileNotFoundError",
     "evalue": "[Errno 2] File b'./Text_crawling' does not exist: b'./Text_crawling'",
     "output_type": "error",
     "traceback": [
      "\u001b[1;31m---------------------------------------------------------------------------\u001b[0m",
      "\u001b[1;31mFileNotFoundError\u001b[0m                         Traceback (most recent call last)",
      "\u001b[1;32m<ipython-input-21-89c92838b891>\u001b[0m in \u001b[0;36m<module>\u001b[1;34m\u001b[0m\n\u001b[1;32m----> 1\u001b[1;33m \u001b[0mText_crawling\u001b[0m \u001b[1;33m=\u001b[0m \u001b[0mpd\u001b[0m\u001b[1;33m.\u001b[0m\u001b[0mread_csv\u001b[0m\u001b[1;33m(\u001b[0m\u001b[1;34m\"./Text_crawling\"\u001b[0m\u001b[1;33m)\u001b[0m\u001b[1;33m\u001b[0m\u001b[1;33m\u001b[0m\u001b[0m\n\u001b[0m\u001b[0;32m      2\u001b[0m \u001b[0mText_crawling\u001b[0m\u001b[1;33m\u001b[0m\u001b[1;33m\u001b[0m\u001b[0m\n",
      "\u001b[1;32m~\\Anaconda3\\lib\\site-packages\\pandas\\io\\parsers.py\u001b[0m in \u001b[0;36mparser_f\u001b[1;34m(filepath_or_buffer, sep, delimiter, header, names, index_col, usecols, squeeze, prefix, mangle_dupe_cols, dtype, engine, converters, true_values, false_values, skipinitialspace, skiprows, skipfooter, nrows, na_values, keep_default_na, na_filter, verbose, skip_blank_lines, parse_dates, infer_datetime_format, keep_date_col, date_parser, dayfirst, cache_dates, iterator, chunksize, compression, thousands, decimal, lineterminator, quotechar, quoting, doublequote, escapechar, comment, encoding, dialect, error_bad_lines, warn_bad_lines, delim_whitespace, low_memory, memory_map, float_precision)\u001b[0m\n\u001b[0;32m    683\u001b[0m         )\n\u001b[0;32m    684\u001b[0m \u001b[1;33m\u001b[0m\u001b[0m\n\u001b[1;32m--> 685\u001b[1;33m         \u001b[1;32mreturn\u001b[0m \u001b[0m_read\u001b[0m\u001b[1;33m(\u001b[0m\u001b[0mfilepath_or_buffer\u001b[0m\u001b[1;33m,\u001b[0m \u001b[0mkwds\u001b[0m\u001b[1;33m)\u001b[0m\u001b[1;33m\u001b[0m\u001b[1;33m\u001b[0m\u001b[0m\n\u001b[0m\u001b[0;32m    686\u001b[0m \u001b[1;33m\u001b[0m\u001b[0m\n\u001b[0;32m    687\u001b[0m     \u001b[0mparser_f\u001b[0m\u001b[1;33m.\u001b[0m\u001b[0m__name__\u001b[0m \u001b[1;33m=\u001b[0m \u001b[0mname\u001b[0m\u001b[1;33m\u001b[0m\u001b[1;33m\u001b[0m\u001b[0m\n",
      "\u001b[1;32m~\\Anaconda3\\lib\\site-packages\\pandas\\io\\parsers.py\u001b[0m in \u001b[0;36m_read\u001b[1;34m(filepath_or_buffer, kwds)\u001b[0m\n\u001b[0;32m    455\u001b[0m \u001b[1;33m\u001b[0m\u001b[0m\n\u001b[0;32m    456\u001b[0m     \u001b[1;31m# Create the parser.\u001b[0m\u001b[1;33m\u001b[0m\u001b[1;33m\u001b[0m\u001b[1;33m\u001b[0m\u001b[0m\n\u001b[1;32m--> 457\u001b[1;33m     \u001b[0mparser\u001b[0m \u001b[1;33m=\u001b[0m \u001b[0mTextFileReader\u001b[0m\u001b[1;33m(\u001b[0m\u001b[0mfp_or_buf\u001b[0m\u001b[1;33m,\u001b[0m \u001b[1;33m**\u001b[0m\u001b[0mkwds\u001b[0m\u001b[1;33m)\u001b[0m\u001b[1;33m\u001b[0m\u001b[1;33m\u001b[0m\u001b[0m\n\u001b[0m\u001b[0;32m    458\u001b[0m \u001b[1;33m\u001b[0m\u001b[0m\n\u001b[0;32m    459\u001b[0m     \u001b[1;32mif\u001b[0m \u001b[0mchunksize\u001b[0m \u001b[1;32mor\u001b[0m \u001b[0miterator\u001b[0m\u001b[1;33m:\u001b[0m\u001b[1;33m\u001b[0m\u001b[1;33m\u001b[0m\u001b[0m\n",
      "\u001b[1;32m~\\Anaconda3\\lib\\site-packages\\pandas\\io\\parsers.py\u001b[0m in \u001b[0;36m__init__\u001b[1;34m(self, f, engine, **kwds)\u001b[0m\n\u001b[0;32m    893\u001b[0m             \u001b[0mself\u001b[0m\u001b[1;33m.\u001b[0m\u001b[0moptions\u001b[0m\u001b[1;33m[\u001b[0m\u001b[1;34m\"has_index_names\"\u001b[0m\u001b[1;33m]\u001b[0m \u001b[1;33m=\u001b[0m \u001b[0mkwds\u001b[0m\u001b[1;33m[\u001b[0m\u001b[1;34m\"has_index_names\"\u001b[0m\u001b[1;33m]\u001b[0m\u001b[1;33m\u001b[0m\u001b[1;33m\u001b[0m\u001b[0m\n\u001b[0;32m    894\u001b[0m \u001b[1;33m\u001b[0m\u001b[0m\n\u001b[1;32m--> 895\u001b[1;33m         \u001b[0mself\u001b[0m\u001b[1;33m.\u001b[0m\u001b[0m_make_engine\u001b[0m\u001b[1;33m(\u001b[0m\u001b[0mself\u001b[0m\u001b[1;33m.\u001b[0m\u001b[0mengine\u001b[0m\u001b[1;33m)\u001b[0m\u001b[1;33m\u001b[0m\u001b[1;33m\u001b[0m\u001b[0m\n\u001b[0m\u001b[0;32m    896\u001b[0m \u001b[1;33m\u001b[0m\u001b[0m\n\u001b[0;32m    897\u001b[0m     \u001b[1;32mdef\u001b[0m \u001b[0mclose\u001b[0m\u001b[1;33m(\u001b[0m\u001b[0mself\u001b[0m\u001b[1;33m)\u001b[0m\u001b[1;33m:\u001b[0m\u001b[1;33m\u001b[0m\u001b[1;33m\u001b[0m\u001b[0m\n",
      "\u001b[1;32m~\\Anaconda3\\lib\\site-packages\\pandas\\io\\parsers.py\u001b[0m in \u001b[0;36m_make_engine\u001b[1;34m(self, engine)\u001b[0m\n\u001b[0;32m   1133\u001b[0m     \u001b[1;32mdef\u001b[0m \u001b[0m_make_engine\u001b[0m\u001b[1;33m(\u001b[0m\u001b[0mself\u001b[0m\u001b[1;33m,\u001b[0m \u001b[0mengine\u001b[0m\u001b[1;33m=\u001b[0m\u001b[1;34m\"c\"\u001b[0m\u001b[1;33m)\u001b[0m\u001b[1;33m:\u001b[0m\u001b[1;33m\u001b[0m\u001b[1;33m\u001b[0m\u001b[0m\n\u001b[0;32m   1134\u001b[0m         \u001b[1;32mif\u001b[0m \u001b[0mengine\u001b[0m \u001b[1;33m==\u001b[0m \u001b[1;34m\"c\"\u001b[0m\u001b[1;33m:\u001b[0m\u001b[1;33m\u001b[0m\u001b[1;33m\u001b[0m\u001b[0m\n\u001b[1;32m-> 1135\u001b[1;33m             \u001b[0mself\u001b[0m\u001b[1;33m.\u001b[0m\u001b[0m_engine\u001b[0m \u001b[1;33m=\u001b[0m \u001b[0mCParserWrapper\u001b[0m\u001b[1;33m(\u001b[0m\u001b[0mself\u001b[0m\u001b[1;33m.\u001b[0m\u001b[0mf\u001b[0m\u001b[1;33m,\u001b[0m \u001b[1;33m**\u001b[0m\u001b[0mself\u001b[0m\u001b[1;33m.\u001b[0m\u001b[0moptions\u001b[0m\u001b[1;33m)\u001b[0m\u001b[1;33m\u001b[0m\u001b[1;33m\u001b[0m\u001b[0m\n\u001b[0m\u001b[0;32m   1136\u001b[0m         \u001b[1;32melse\u001b[0m\u001b[1;33m:\u001b[0m\u001b[1;33m\u001b[0m\u001b[1;33m\u001b[0m\u001b[0m\n\u001b[0;32m   1137\u001b[0m             \u001b[1;32mif\u001b[0m \u001b[0mengine\u001b[0m \u001b[1;33m==\u001b[0m \u001b[1;34m\"python\"\u001b[0m\u001b[1;33m:\u001b[0m\u001b[1;33m\u001b[0m\u001b[1;33m\u001b[0m\u001b[0m\n",
      "\u001b[1;32m~\\Anaconda3\\lib\\site-packages\\pandas\\io\\parsers.py\u001b[0m in \u001b[0;36m__init__\u001b[1;34m(self, src, **kwds)\u001b[0m\n\u001b[0;32m   1915\u001b[0m         \u001b[0mkwds\u001b[0m\u001b[1;33m[\u001b[0m\u001b[1;34m\"usecols\"\u001b[0m\u001b[1;33m]\u001b[0m \u001b[1;33m=\u001b[0m \u001b[0mself\u001b[0m\u001b[1;33m.\u001b[0m\u001b[0musecols\u001b[0m\u001b[1;33m\u001b[0m\u001b[1;33m\u001b[0m\u001b[0m\n\u001b[0;32m   1916\u001b[0m \u001b[1;33m\u001b[0m\u001b[0m\n\u001b[1;32m-> 1917\u001b[1;33m         \u001b[0mself\u001b[0m\u001b[1;33m.\u001b[0m\u001b[0m_reader\u001b[0m \u001b[1;33m=\u001b[0m \u001b[0mparsers\u001b[0m\u001b[1;33m.\u001b[0m\u001b[0mTextReader\u001b[0m\u001b[1;33m(\u001b[0m\u001b[0msrc\u001b[0m\u001b[1;33m,\u001b[0m \u001b[1;33m**\u001b[0m\u001b[0mkwds\u001b[0m\u001b[1;33m)\u001b[0m\u001b[1;33m\u001b[0m\u001b[1;33m\u001b[0m\u001b[0m\n\u001b[0m\u001b[0;32m   1918\u001b[0m         \u001b[0mself\u001b[0m\u001b[1;33m.\u001b[0m\u001b[0munnamed_cols\u001b[0m \u001b[1;33m=\u001b[0m \u001b[0mself\u001b[0m\u001b[1;33m.\u001b[0m\u001b[0m_reader\u001b[0m\u001b[1;33m.\u001b[0m\u001b[0munnamed_cols\u001b[0m\u001b[1;33m\u001b[0m\u001b[1;33m\u001b[0m\u001b[0m\n\u001b[0;32m   1919\u001b[0m \u001b[1;33m\u001b[0m\u001b[0m\n",
      "\u001b[1;32mpandas\\_libs\\parsers.pyx\u001b[0m in \u001b[0;36mpandas._libs.parsers.TextReader.__cinit__\u001b[1;34m()\u001b[0m\n",
      "\u001b[1;32mpandas\\_libs\\parsers.pyx\u001b[0m in \u001b[0;36mpandas._libs.parsers.TextReader._setup_parser_source\u001b[1;34m()\u001b[0m\n",
      "\u001b[1;31mFileNotFoundError\u001b[0m: [Errno 2] File b'./Text_crawling' does not exist: b'./Text_crawling'"
     ]
    }
   ],
   "source": [
    "Text_crawling = pd.read_csv(\"./Text_crawling\")\n",
    "Text_crawling"
   ]
  },
  {
   "cell_type": "code",
   "execution_count": null,
   "metadata": {},
   "outputs": [],
   "source": []
  }
 ],
 "metadata": {
  "kernelspec": {
   "display_name": "Python 3",
   "language": "python",
   "name": "python3"
  },
  "language_info": {
   "codemirror_mode": {
    "name": "ipython",
    "version": 3
   },
   "file_extension": ".py",
   "mimetype": "text/x-python",
   "name": "python",
   "nbconvert_exporter": "python",
   "pygments_lexer": "ipython3",
   "version": "3.7.4"
  }
 },
 "nbformat": 4,
 "nbformat_minor": 2
}
