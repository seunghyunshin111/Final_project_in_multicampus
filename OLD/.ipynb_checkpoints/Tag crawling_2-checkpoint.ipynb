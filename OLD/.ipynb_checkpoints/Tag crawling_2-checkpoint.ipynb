{
 "cells": [
  {
   "cell_type": "code",
   "execution_count": 1,
   "metadata": {},
   "outputs": [],
   "source": [
    "from flickrapi import FlickrAPI"
   ]
  },
  {
   "cell_type": "code",
   "execution_count": 11,
   "metadata": {},
   "outputs": [],
   "source": [
    "key = 'b88ca2b24d6576e7f599262d39ee7369'\n",
    "secret = 'b59f9d28f3c5543d'\n",
    "\n",
    "\n",
    "flickr = FlickrAPI(key, secret, format='parsed-json')\n",
    "extras='url_o'\n",
    "\n",
    "# Italy 위도, 경도\n",
    "bbox_string = str(6.6272658) + ',' + str(35.2889616) + ',' + str(18.7844746) + ',' + str(47.0921462)\n",
    "\n",
    "italy = flickr.photos.search(bbox=bbox_string, per_pages=500, extras=extras)\n",
    "\n",
    "photos = italy['photos']['photo']\n",
    "photo_id = []\n",
    "for k in range(len(photos)):\n",
    "    photo_id.append(photos[k]['id'])"
   ]
  },
  {
   "cell_type": "code",
   "execution_count": 5,
   "metadata": {},
   "outputs": [],
   "source": [
    "from tqdm.notebook import tqdm"
   ]
  },
  {
   "cell_type": "code",
   "execution_count": 6,
   "metadata": {},
   "outputs": [
    {
     "data": {
      "application/vnd.jupyter.widget-view+json": {
       "model_id": "f9749a14583946ea900dd0a559909828",
       "version_major": 2,
       "version_minor": 0
      },
      "text/plain": [
       "HBox(children=(IntProgress(value=0, max=250), HTML(value='')))"
      ]
     },
     "metadata": {},
     "output_type": "display_data"
    },
    {
     "name": "stdout",
     "output_type": "stream",
     "text": [
      "\n"
     ]
    }
   ],
   "source": [
    "# 각각의 photo_id 에 대해 tag, title, url 추출\n",
    "# 갯수가 항상 250개로 제한되어 있는지 확인?\n",
    "\n",
    "total_information = []\n",
    "\n",
    "for i in tqdm(range(len(photo_id))):\n",
    "    information = flickr.photos.getInfo(photo_id=photo_id[i])\n",
    "    \n",
    "    # tag 추출\n",
    "    tags = information['photo']['tags']['tag']\n",
    "    information_tag = []\n",
    "    for j in range(len(tags)):\n",
    "        information_tag.append(tags[j]['_content'])\n",
    "        pass\n",
    "    \n",
    "    # title 추출\n",
    "    information_title = information['photo']['title']['_content']\n",
    "    \n",
    "    # url 추출\n",
    "    information_url = information['photo']['urls']['url'][0]['_content']\n",
    "    \n",
    "    # photo_id, tag, title, url을 하나의 리스트로 만들기\n",
    "    information_list = []\n",
    "    information_list.append(photo_id[i])\n",
    "    information_list.append(information_tag)\n",
    "    information_list.append(information_title)\n",
    "    information_list.append(information_url)\n",
    "    \n",
    "    # 총 리스트 만들기\n",
    "    total_information.append(information_list)\n",
    "    \n",
    "    pass"
   ]
  },
  {
   "cell_type": "code",
   "execution_count": 7,
   "metadata": {},
   "outputs": [],
   "source": [
    "import pandas as pd\n",
    "\n",
    "col_names = ['photo_id', 'tag', 'title', 'image_url']\n",
    "values = total_information\n",
    "flickr_df = pd.DataFrame(values, columns=col_names)"
   ]
  },
  {
   "cell_type": "code",
   "execution_count": 8,
   "metadata": {},
   "outputs": [
    {
     "data": {
      "text/html": [
       "<div>\n",
       "<style scoped>\n",
       "    .dataframe tbody tr th:only-of-type {\n",
       "        vertical-align: middle;\n",
       "    }\n",
       "\n",
       "    .dataframe tbody tr th {\n",
       "        vertical-align: top;\n",
       "    }\n",
       "\n",
       "    .dataframe thead th {\n",
       "        text-align: right;\n",
       "    }\n",
       "</style>\n",
       "<table border=\"1\" class=\"dataframe\">\n",
       "  <thead>\n",
       "    <tr style=\"text-align: right;\">\n",
       "      <th></th>\n",
       "      <th>photo_id</th>\n",
       "      <th>tag</th>\n",
       "      <th>title</th>\n",
       "      <th>image_url</th>\n",
       "    </tr>\n",
       "  </thead>\n",
       "  <tbody>\n",
       "    <tr>\n",
       "      <td>0</td>\n",
       "      <td>49696781793</td>\n",
       "      <td>[pubeosas]</td>\n",
       "      <td>CUBE HELIUM (1)</td>\n",
       "      <td>https://www.flickr.com/photos/pubeo/49696781793/</td>\n",
       "    </tr>\n",
       "    <tr>\n",
       "      <td>1</td>\n",
       "      <td>49697598907</td>\n",
       "      <td>[]</td>\n",
       "      <td>Oropa</td>\n",
       "      <td>https://www.flickr.com/photos/8897239@N06/4969...</td>\n",
       "    </tr>\n",
       "    <tr>\n",
       "      <td>2</td>\n",
       "      <td>49570853333</td>\n",
       "      <td>[procida, island, holiday, italy, italia, corr...</td>\n",
       "      <td>Arriving by ferry in Procida</td>\n",
       "      <td>https://www.flickr.com/photos/visbeek/49570853...</td>\n",
       "    </tr>\n",
       "    <tr>\n",
       "      <td>3</td>\n",
       "      <td>49696736833</td>\n",
       "      <td>[alpesdehauteprovence, alpesmaritimes, alps, c...</td>\n",
       "      <td>Silver Tape (U50b)</td>\n",
       "      <td>https://www.flickr.com/photos/darblanc/4969673...</td>\n",
       "    </tr>\n",
       "    <tr>\n",
       "      <td>4</td>\n",
       "      <td>49696698223</td>\n",
       "      <td>[]</td>\n",
       "      <td>Antonio Canova: Monumento all' Ammiraglio Ange...</td>\n",
       "      <td>https://www.flickr.com/photos/gypsi54/49696698...</td>\n",
       "    </tr>\n",
       "    <tr>\n",
       "      <td>...</td>\n",
       "      <td>...</td>\n",
       "      <td>...</td>\n",
       "      <td>...</td>\n",
       "      <td>...</td>\n",
       "    </tr>\n",
       "    <tr>\n",
       "      <td>245</td>\n",
       "      <td>49695707292</td>\n",
       "      <td>[toskania]</td>\n",
       "      <td>Tuscany, San Gimignano</td>\n",
       "      <td>https://www.flickr.com/photos/gregofpoland/496...</td>\n",
       "    </tr>\n",
       "    <tr>\n",
       "      <td>246</td>\n",
       "      <td>49695403996</td>\n",
       "      <td>[toskania]</td>\n",
       "      <td>Tuscany, San Gimignano</td>\n",
       "      <td>https://www.flickr.com/photos/gregofpoland/496...</td>\n",
       "    </tr>\n",
       "    <tr>\n",
       "      <td>247</td>\n",
       "      <td>49695707027</td>\n",
       "      <td>[toskania]</td>\n",
       "      <td>Tuscany, San Gimignano</td>\n",
       "      <td>https://www.flickr.com/photos/gregofpoland/496...</td>\n",
       "    </tr>\n",
       "    <tr>\n",
       "      <td>248</td>\n",
       "      <td>49695706932</td>\n",
       "      <td>[toskania, sangimignano, toscana, italy]</td>\n",
       "      <td>Tuscany, San Gimignano</td>\n",
       "      <td>https://www.flickr.com/photos/gregofpoland/496...</td>\n",
       "    </tr>\n",
       "    <tr>\n",
       "      <td>249</td>\n",
       "      <td>49694866238</td>\n",
       "      <td>[toskania]</td>\n",
       "      <td>Tuscany, San Gimignano</td>\n",
       "      <td>https://www.flickr.com/photos/gregofpoland/496...</td>\n",
       "    </tr>\n",
       "  </tbody>\n",
       "</table>\n",
       "<p>250 rows × 4 columns</p>\n",
       "</div>"
      ],
      "text/plain": [
       "        photo_id                                                tag  \\\n",
       "0    49696781793                                         [pubeosas]   \n",
       "1    49697598907                                                 []   \n",
       "2    49570853333  [procida, island, holiday, italy, italia, corr...   \n",
       "3    49696736833  [alpesdehauteprovence, alpesmaritimes, alps, c...   \n",
       "4    49696698223                                                 []   \n",
       "..           ...                                                ...   \n",
       "245  49695707292                                         [toskania]   \n",
       "246  49695403996                                         [toskania]   \n",
       "247  49695707027                                         [toskania]   \n",
       "248  49695706932           [toskania, sangimignano, toscana, italy]   \n",
       "249  49694866238                                         [toskania]   \n",
       "\n",
       "                                                 title  \\\n",
       "0                                      CUBE HELIUM (1)   \n",
       "1                                                Oropa   \n",
       "2                         Arriving by ferry in Procida   \n",
       "3                                   Silver Tape (U50b)   \n",
       "4    Antonio Canova: Monumento all' Ammiraglio Ange...   \n",
       "..                                                 ...   \n",
       "245                             Tuscany, San Gimignano   \n",
       "246                             Tuscany, San Gimignano   \n",
       "247                             Tuscany, San Gimignano   \n",
       "248                             Tuscany, San Gimignano   \n",
       "249                             Tuscany, San Gimignano   \n",
       "\n",
       "                                             image_url  \n",
       "0     https://www.flickr.com/photos/pubeo/49696781793/  \n",
       "1    https://www.flickr.com/photos/8897239@N06/4969...  \n",
       "2    https://www.flickr.com/photos/visbeek/49570853...  \n",
       "3    https://www.flickr.com/photos/darblanc/4969673...  \n",
       "4    https://www.flickr.com/photos/gypsi54/49696698...  \n",
       "..                                                 ...  \n",
       "245  https://www.flickr.com/photos/gregofpoland/496...  \n",
       "246  https://www.flickr.com/photos/gregofpoland/496...  \n",
       "247  https://www.flickr.com/photos/gregofpoland/496...  \n",
       "248  https://www.flickr.com/photos/gregofpoland/496...  \n",
       "249  https://www.flickr.com/photos/gregofpoland/496...  \n",
       "\n",
       "[250 rows x 4 columns]"
      ]
     },
     "execution_count": 8,
     "metadata": {},
     "output_type": "execute_result"
    }
   ],
   "source": [
    "flickr_df"
   ]
  },
  {
   "cell_type": "code",
   "execution_count": null,
   "metadata": {},
   "outputs": [],
   "source": []
  }
 ],
 "metadata": {
  "kernelspec": {
   "display_name": "Python 3",
   "language": "python",
   "name": "python3"
  },
  "language_info": {
   "codemirror_mode": {
    "name": "ipython",
    "version": 3
   },
   "file_extension": ".py",
   "mimetype": "text/x-python",
   "name": "python",
   "nbconvert_exporter": "python",
   "pygments_lexer": "ipython3",
   "version": "3.7.4"
  }
 },
 "nbformat": 4,
 "nbformat_minor": 2
}
