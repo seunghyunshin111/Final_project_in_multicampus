{
 "cells": [
  {
   "cell_type": "code",
   "execution_count": null,
   "metadata": {},
   "outputs": [],
   "source": [
    "import csv\n",
    "import os\n",
    " \n",
    "os.chdir(\"C:\\\\Users\\\\Juwon\\\\PycharmProjects\\\\tensorflows\\\\parser\\\\Csv\")\n",
    " \n",
    "category = ['숙박', '음식, 음료', '쇼핑', '체험, 활동', '휴식', '이벤트, 축제', '야간 관광', '역사, 유적', '문화', '한류', '도시경관', '도시기반시설', '교통', '날씨', '자연', '랜드마크', '지역, 정보', '사람']\n",
    " \n",
    "file_unity = open('review_italy_yurang.txt', 'w', encoding='euc-kr')\n",
    "wtxt = txt.writer(file_unity)\n",
    " \n",
    "count = 0\n",
    " \n",
    "for category_element in category:\n",
    "    file = open('Article_'+category_element+'.txt', 'r', encoding='euc-kr', newline=\"\")\n",
    "    line = csv.reader(file)\n",
    "    try:\n",
    "        for line_text in line:\n",
    "            wcsv.writerow([line_text[0], line_text[1], line_text[2], line_text[3]])\n",
    "    except:\n",
    "        pass"
   ]
  },
  {
   "cell_type": "code",
   "execution_count": null,
   "metadata": {},
   "outputs": [],
   "source": [
    "import csv\n",
    "import random\n",
    "import os\n",
    " \n",
    "os.chdir(\"C:\\\\Users\\\\Juwon\\\\PycharmProjects\\\\tensorflows\\\\parser\\\\Csv\") // Csv가 있는 경로 설정\n",
    " \n",
    "file = open('Article_unity.csv', 'r', encoding='euc-kr')\n",
    "line = file.readlines()\n",
    "random.shuffle(line)\n",
    "rcsv = csv.reader(line)\n",
    " \n",
    "file_write = open('Article_shuffled.csv', 'w', encoding='euc-kr', newline=\"\")\n",
    "wcsv = csv.writer(file_write)\n",
    " \n",
    "for i in rcsv:\n",
    "    try:\n",
    "        wcsv.writerow([i[0].strip(), i[1], i[2], i[3]])\n",
    "    except:\n",
    "        pass"
   ]
  },
  {
   "cell_type": "code",
   "execution_count": null,
   "metadata": {},
   "outputs": [],
   "source": [
    "import csv\n",
    "import os\n",
    " \n",
    "os.chdir(\"C:\\\\Users\\\\Juwon\\\\PycharmProjects\\\\tensorflows\\\\parser\\\\Csv\") // 파일 경로 변경\n",
    " \n",
    "file = open('Article_shuffled.csv', 'r', encoding='euc-kr')\n",
    "line = csv.reader(file)\n",
    " \n",
    "for i in line:\n",
    "    print(i[0], i[1], i[2], i[3])"
   ]
  },
  {
   "cell_type": "code",
   "execution_count": null,
   "metadata": {},
   "outputs": [],
   "source": [
    "from konlpy.tag import Twitter\n",
    "from gensim.models import Word2Vec\n",
    "import csv\n",
    " \n",
    "twitter = Twitter()\n",
    " \n",
    "file = open(\"Article_shuffled.csv\", 'r', encoding='euc-kr')\n",
    "line = csv.reader(file)\n",
    "token = []\n",
    "embeddingmodel = []\n",
    " \n",
    "for i in line:\n",
    "    sentence = twitter.pos(i[0], norm=True, stem=True)\n",
    "    temp = []\n",
    "    temp_embedding = []\n",
    "    all_temp = []\n",
    "    for k in range(len(sentence)):\n",
    "        temp_embedding.append(sentence[k][0])\n",
    "        temp.append(sentence[k][0] + '/' + sentence[k][1])\n",
    "    all_temp.append(temp)\n",
    "    embeddingmodel.append(temp_embedding)\n",
    "    category_number_dic = {'IT과학': 0, '경제': 1, '정치': 2, 'e스포츠': 3, '골프': 4,\n",
    "   '농구': 5, '배구': 6, '야구': 7, '일반 스포츠': 8, '축구': 9, '사회': 10, '생활문화': 11}\n",
    "    all_temp.append(category_number_dic.get(category))\n",
    "    token.append(all_temp)\n",
    "print(\"토큰 처리 완료\")\n",
    " \n",
    "embeddingmodel = []\n",
    "for i in range(len(token)):\n",
    "    temp_embeddingmodel = []\n",
    "    for k in range(len(token[i][0])):\n",
    "        temp_embeddingmodel.append(token[i][0][k])\n",
    "    embeddingmodel.append(temp_embeddingmodel)\n",
    "// max_vocab size 10000000 개당 1 GB 메모리 차지\n",
    "embedding = Word2Vec(embeddingmodel, size=300, window=5, min_count=10, iter=5, sg=1, max_vocab_size = 360000000)\n",
    "embedding.save('post.embedding')\n",
    " "
   ]
  },
  {
   "cell_type": "code",
   "execution_count": null,
   "metadata": {},
   "outputs": [],
   "source": []
  },
  {
   "cell_type": "code",
   "execution_count": null,
   "metadata": {},
   "outputs": [],
   "source": []
  },
  {
   "cell_type": "code",
   "execution_count": null,
   "metadata": {},
   "outputs": [],
   "source": []
  },
  {
   "cell_type": "code",
   "execution_count": null,
   "metadata": {},
   "outputs": [],
   "source": []
  },
  {
   "cell_type": "code",
   "execution_count": null,
   "metadata": {},
   "outputs": [],
   "source": []
  }
 ],
 "metadata": {
  "kernelspec": {
   "display_name": "Python 3",
   "language": "python",
   "name": "python3"
  },
  "language_info": {
   "codemirror_mode": {
    "name": "ipython",
    "version": 3
   },
   "file_extension": ".py",
   "mimetype": "text/x-python",
   "name": "python",
   "nbconvert_exporter": "python",
   "pygments_lexer": "ipython3",
   "version": "3.7.4"
  }
 },
 "nbformat": 4,
 "nbformat_minor": 2
}
