{
 "cells": [
  {
   "cell_type": "code",
   "execution_count": 1,
   "metadata": {
    "scrolled": true
   },
   "outputs": [
    {
     "name": "stdout",
     "output_type": "stream",
     "text": [
      "Requirement already satisfied: mxnet-cu90 in c:\\users\\student\\anaconda3\\lib\\site-packages (1.6.0)\n",
      "Requirement already satisfied: numpy<1.17.0,>=1.8.2 in c:\\users\\student\\anaconda3\\lib\\site-packages (from mxnet-cu90) (1.16.5)\n",
      "Requirement already satisfied: requests<2.19.0,>=2.18.4 in c:\\users\\student\\anaconda3\\lib\\site-packages (from mxnet-cu90) (2.18.4)\n",
      "Requirement already satisfied: graphviz<0.9.0,>=0.8.1 in c:\\users\\student\\anaconda3\\lib\\site-packages (from mxnet-cu90) (0.8.4)\n",
      "Requirement already satisfied: certifi>=2017.4.17 in c:\\users\\student\\anaconda3\\lib\\site-packages (from requests<2.19.0,>=2.18.4->mxnet-cu90) (2019.9.11)\n",
      "Requirement already satisfied: idna<2.7,>=2.5 in c:\\users\\student\\anaconda3\\lib\\site-packages (from requests<2.19.0,>=2.18.4->mxnet-cu90) (2.6)\n",
      "Requirement already satisfied: chardet<3.1.0,>=3.0.2 in c:\\users\\student\\anaconda3\\lib\\site-packages (from requests<2.19.0,>=2.18.4->mxnet-cu90) (3.0.4)\n",
      "Requirement already satisfied: urllib3<1.23,>=1.21.1 in c:\\users\\student\\anaconda3\\lib\\site-packages (from requests<2.19.0,>=2.18.4->mxnet-cu90) (1.22)\n"
     ]
    }
   ],
   "source": [
    "!pip install mxnet-cu90 --pre"
   ]
  },
  {
   "cell_type": "code",
   "execution_count": 5,
   "metadata": {},
   "outputs": [
    {
     "name": "stdout",
     "output_type": "stream",
     "text": [
      "Found existing installation: mxnet-cu90 1.6.0\n",
      "Uninstalling mxnet-cu90-1.6.0:\n",
      "  Successfully uninstalled mxnet-cu90-1.6.0\n"
     ]
    }
   ],
   "source": [
    "!pip uninstall -y mxnet-cu90"
   ]
  },
  {
   "cell_type": "code",
   "execution_count": null,
   "metadata": {},
   "outputs": [],
   "source": [
    "!pip install mxnet-cu90 --pre"
   ]
  },
  {
   "cell_type": "code",
   "execution_count": null,
   "metadata": {},
   "outputs": [],
   "source": [
    "import mxnet"
   ]
  },
  {
   "cell_type": "code",
   "execution_count": null,
   "metadata": {},
   "outputs": [],
   "source": []
  },
  {
   "cell_type": "code",
   "execution_count": null,
   "metadata": {},
   "outputs": [],
   "source": []
  },
  {
   "cell_type": "code",
   "execution_count": null,
   "metadata": {},
   "outputs": [],
   "source": []
  },
  {
   "cell_type": "code",
   "execution_count": null,
   "metadata": {},
   "outputs": [],
   "source": []
  },
  {
   "cell_type": "code",
   "execution_count": null,
   "metadata": {},
   "outputs": [],
   "source": []
  },
  {
   "cell_type": "code",
   "execution_count": null,
   "metadata": {},
   "outputs": [],
   "source": []
  }
 ],
 "metadata": {
  "kernelspec": {
   "display_name": "Python 3",
   "language": "python",
   "name": "python3"
  },
  "language_info": {
   "codemirror_mode": {
    "name": "ipython",
    "version": 3
   },
   "file_extension": ".py",
   "mimetype": "text/x-python",
   "name": "python",
   "nbconvert_exporter": "python",
   "pygments_lexer": "ipython3",
   "version": "3.7.4"
  }
 },
 "nbformat": 4,
 "nbformat_minor": 2
}
