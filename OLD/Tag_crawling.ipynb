{
 "cells": [
  {
   "cell_type": "code",
   "execution_count": 57,
   "metadata": {},
   "outputs": [],
   "source": [
    "from flickrapi import FlickrAPI\n",
    "import flickrapi\n",
    "import urllib.request\n",
    "from PIL import Image\n",
    "\n",
    "\n",
    "# Flickr api access key \n",
    "flickr=flickrapi.FlickrAPI('c6a2c45591d4973ff525042472446ca2', '202ffe6f387ce29b', cache=True)\n"
   ]
  },
  {
   "cell_type": "code",
   "execution_count": 58,
   "metadata": {},
   "outputs": [],
   "source": [
    "flickr = FlickrAPI(key, secret, format='parsed-json')"
   ]
  },
  {
   "cell_type": "code",
   "execution_count": 59,
   "metadata": {},
   "outputs": [],
   "source": [
    "extras='url_o'"
   ]
  },
  {
   "cell_type": "code",
   "execution_count": 62,
   "metadata": {},
   "outputs": [],
   "source": [
    "import flickrapi\n",
    "import urllib.request\n",
    "from PIL import Image\n",
    "\n",
    "# Flickr api access key \n",
    "flickr=flickrapi.FlickrAPI('c6a2c45591d4973ff525042472446ca2', '202ffe6f387ce29b', cache=True)\n",
    "\n",
    "keyword = 'pisa'"
   ]
  },
  {
   "cell_type": "code",
   "execution_count": 63,
   "metadata": {},
   "outputs": [],
   "source": [
    "photos = flickr.walk(text=keyword,\n",
    "                     tag_mode='all',\n",
    "                     tags=keyword,\n",
    "                     extras='url_c',\n",
    "                     per_page=100,           # may be you can try different numbers..\n",
    "                     sort='relevance')"
   ]
  },
  {
   "cell_type": "code",
   "execution_count": 64,
   "metadata": {},
   "outputs": [],
   "source": [
    "photos = italy['photos']['photo']"
   ]
  },
  {
   "cell_type": "code",
   "execution_count": 65,
   "metadata": {},
   "outputs": [
    {
     "data": {
      "text/plain": [
       "'49683212572'"
      ]
     },
     "execution_count": 65,
     "metadata": {},
     "output_type": "execute_result"
    }
   ],
   "source": [
    "photos[0]['id']"
   ]
  },
  {
   "cell_type": "code",
   "execution_count": 66,
   "metadata": {},
   "outputs": [
    {
     "data": {
      "text/plain": [
       "'49683212577'"
      ]
     },
     "execution_count": 66,
     "metadata": {},
     "output_type": "execute_result"
    }
   ],
   "source": [
    "photos[1]['id']"
   ]
  },
  {
   "cell_type": "code",
   "execution_count": 67,
   "metadata": {},
   "outputs": [
    {
     "data": {
      "text/plain": [
       "str"
      ]
     },
     "execution_count": 67,
     "metadata": {},
     "output_type": "execute_result"
    }
   ],
   "source": [
    "type(photos[2]['id'])"
   ]
  },
  {
   "cell_type": "code",
   "execution_count": 68,
   "metadata": {},
   "outputs": [],
   "source": [
    "photo_id = []\n",
    "for k in range(len(photos)):\n",
    "    photo_id.append(photos[k]['id'])"
   ]
  },
  {
   "cell_type": "code",
   "execution_count": 69,
   "metadata": {},
   "outputs": [
    {
     "name": "stdout",
     "output_type": "stream",
     "text": [
      "250\n"
     ]
    }
   ],
   "source": [
    "print(len(photo_id))"
   ]
  },
  {
   "cell_type": "code",
   "execution_count": 70,
   "metadata": {},
   "outputs": [
    {
     "data": {
      "text/plain": [
       "'49478479042'"
      ]
     },
     "execution_count": 70,
     "metadata": {},
     "output_type": "execute_result"
    }
   ],
   "source": [
    "photo_id[249]"
   ]
  },
  {
   "cell_type": "code",
   "execution_count": 71,
   "metadata": {},
   "outputs": [],
   "source": [
    "from tqdm import tqdm # python에서 for문 진행 현황 확인하는 라이브러리"
   ]
  },
  {
   "cell_type": "code",
   "execution_count": 72,
   "metadata": {},
   "outputs": [
    {
     "data": {
      "text/plain": [
       "['49683212572',\n",
       " '49683212577',\n",
       " '35474387130',\n",
       " '49498046336',\n",
       " '49498046166',\n",
       " '49498272962',\n",
       " '49497550063',\n",
       " '49498272537',\n",
       " '49497549623',\n",
       " '49498045206',\n",
       " '49498271997',\n",
       " '49498044951',\n",
       " '49498271667',\n",
       " '49498271452',\n",
       " '49497548708',\n",
       " '49498271192',\n",
       " '49498044116',\n",
       " '49497548153',\n",
       " '49498043801',\n",
       " '49498043611',\n",
       " '49497547643',\n",
       " '49498043271',\n",
       " '49498269787',\n",
       " '49497547088',\n",
       " '49498269457',\n",
       " '49497546553',\n",
       " '49497546298',\n",
       " '49497546018',\n",
       " '49498041741',\n",
       " '49497541673',\n",
       " '49497541458',\n",
       " '49498036896',\n",
       " '49497540973',\n",
       " '49498263737',\n",
       " '49497540603',\n",
       " '49498035956',\n",
       " '49497540233',\n",
       " '49498263022',\n",
       " '49498035346',\n",
       " '49498262687',\n",
       " '49498262427',\n",
       " '49498262222',\n",
       " '49497539123',\n",
       " '49498261892',\n",
       " '49498261642',\n",
       " '49497538438',\n",
       " '49498261172',\n",
       " '49497537968',\n",
       " '49498033166',\n",
       " '49497537573',\n",
       " '49498260297',\n",
       " '49498032596',\n",
       " '49497536963',\n",
       " '49498259692',\n",
       " '49498259477',\n",
       " '49497531498',\n",
       " '49498026251',\n",
       " '49498253712',\n",
       " '49498253522',\n",
       " '49498025566',\n",
       " '49498025406',\n",
       " '49498025161',\n",
       " '49498252672',\n",
       " '49498252337',\n",
       " '49498024401',\n",
       " '49498024141',\n",
       " '49497528853',\n",
       " '49498251442',\n",
       " '49498251192',\n",
       " '49498023271',\n",
       " '49497527898',\n",
       " '49498022776',\n",
       " '49497527388',\n",
       " '49498250007',\n",
       " '49497527013',\n",
       " '49498249542',\n",
       " '49497526533',\n",
       " '49498249072',\n",
       " '49497525998',\n",
       " '49498248617',\n",
       " '49498248387',\n",
       " '49498020401',\n",
       " '49497525128',\n",
       " '49498019896',\n",
       " '49498247592',\n",
       " '49498247342',\n",
       " '49498247132',\n",
       " '49498243337',\n",
       " '49497520523',\n",
       " '49497520303',\n",
       " '49497520148',\n",
       " '49498242517',\n",
       " '49497519828',\n",
       " '49497519583',\n",
       " '49497519368',\n",
       " '49498241802',\n",
       " '49498241587',\n",
       " '49497518868',\n",
       " '49498241232',\n",
       " '49498013081',\n",
       " '49497518348',\n",
       " '49498012676',\n",
       " '49498240312',\n",
       " '49497517718',\n",
       " '49498239957',\n",
       " '49497517378',\n",
       " '49498011756',\n",
       " '49498011476',\n",
       " '49498011336',\n",
       " '49498011171',\n",
       " '49498010926',\n",
       " '49498238527',\n",
       " '49497516033',\n",
       " '49498010301',\n",
       " '49498009986',\n",
       " '49497511513',\n",
       " '49498005661',\n",
       " '49498233292',\n",
       " '49497510683',\n",
       " '49498232852',\n",
       " '49498232642',\n",
       " '49498232437',\n",
       " '49498232237',\n",
       " '49497509543',\n",
       " '49498003921',\n",
       " '49497509103',\n",
       " '49498231122',\n",
       " '49497508648',\n",
       " '49498002916',\n",
       " '49498002661',\n",
       " '49497507838',\n",
       " '49497507603',\n",
       " '49498001916',\n",
       " '49497501838',\n",
       " '49497996221',\n",
       " '49497995976',\n",
       " '49497995821',\n",
       " '49497500893',\n",
       " '49497995451',\n",
       " '49498222617',\n",
       " '49498222332',\n",
       " '49497500048',\n",
       " '49498221857',\n",
       " '49497499668',\n",
       " '49497499428',\n",
       " '49497499213',\n",
       " '49497993496',\n",
       " '49497993251',\n",
       " '49498220277',\n",
       " '49498220067',\n",
       " '49498219842',\n",
       " '49497992416',\n",
       " '49497992136',\n",
       " '49497985156',\n",
       " '49497487138',\n",
       " '49479394542',\n",
       " '49479394372',\n",
       " '49479394162',\n",
       " '49479174771',\n",
       " '49479174566',\n",
       " '49479174331',\n",
       " '49479174151',\n",
       " '49478691353',\n",
       " '49479392857',\n",
       " '49479392677',\n",
       " '49479392502',\n",
       " '49478690478',\n",
       " '49479392012',\n",
       " '49478690013',\n",
       " '49478689793',\n",
       " '49479391307',\n",
       " '49479171611',\n",
       " '49479390702',\n",
       " '49478688698',\n",
       " '49479170761',\n",
       " '49478688208',\n",
       " '49478688033',\n",
       " '49478687768',\n",
       " '49479169836',\n",
       " '49479389077',\n",
       " '49479169426',\n",
       " '49478280491',\n",
       " '49477797623',\n",
       " '49477797383',\n",
       " '49478500177',\n",
       " '49478499992',\n",
       " '49478499752',\n",
       " '49477796453',\n",
       " '49478278811',\n",
       " '49477796083',\n",
       " '49477795878',\n",
       " '49478278261',\n",
       " '49478498682',\n",
       " '49478277966',\n",
       " '49478498252',\n",
       " '49477794983',\n",
       " '49477794708',\n",
       " '49477794483',\n",
       " '49478497292',\n",
       " '49478496937',\n",
       " '49477793773',\n",
       " '49477793608',\n",
       " '49477793413',\n",
       " '49477793138',\n",
       " '49478275396',\n",
       " '49477792538',\n",
       " '49477792328',\n",
       " '49478495002',\n",
       " '49477791843',\n",
       " '49478494467',\n",
       " '49477791448',\n",
       " '49477791178',\n",
       " '49478273336',\n",
       " '49477790603',\n",
       " '49478272781',\n",
       " '49478492727',\n",
       " '49478492482',\n",
       " '49478492237',\n",
       " '49478271766',\n",
       " '49477788963',\n",
       " '49478271066',\n",
       " '49477788588',\n",
       " '49478270546',\n",
       " '49478485877',\n",
       " '49478485667',\n",
       " '49478485407',\n",
       " '49478265426',\n",
       " '49478265161',\n",
       " '49478264956',\n",
       " '49478484472',\n",
       " '49478264621',\n",
       " '49478264361',\n",
       " '49477781723',\n",
       " '49478483522',\n",
       " '49477781308',\n",
       " '49478483027',\n",
       " '49477780893',\n",
       " '49477780668',\n",
       " '49478482372',\n",
       " '49478262436',\n",
       " '49478481827',\n",
       " '49477779488',\n",
       " '49478481087',\n",
       " '49478480812',\n",
       " '49478480467',\n",
       " '49478480212',\n",
       " '49477777818',\n",
       " '49478259711',\n",
       " '49478259476',\n",
       " '49478479042']"
      ]
     },
     "execution_count": 72,
     "metadata": {},
     "output_type": "execute_result"
    }
   ],
   "source": [
    "photo_id"
   ]
  },
  {
   "cell_type": "code",
   "execution_count": 73,
   "metadata": {},
   "outputs": [
    {
     "ename": "TypeError",
     "evalue": "'str' object cannot be interpreted as an integer",
     "output_type": "error",
     "traceback": [
      "\u001b[1;31m---------------------------------------------------------------------------\u001b[0m",
      "\u001b[1;31mTypeError\u001b[0m                                 Traceback (most recent call last)",
      "\u001b[1;32m<ipython-input-73-3d08be46bdd3>\u001b[0m in \u001b[0;36m<module>\u001b[1;34m\u001b[0m\n\u001b[0;32m      7\u001b[0m \u001b[1;33m\u001b[0m\u001b[0m\n\u001b[0;32m      8\u001b[0m     \u001b[1;31m# tag 추출\u001b[0m\u001b[1;33m\u001b[0m\u001b[1;33m\u001b[0m\u001b[1;33m\u001b[0m\u001b[0m\n\u001b[1;32m----> 9\u001b[1;33m     \u001b[0mtags\u001b[0m \u001b[1;33m=\u001b[0m \u001b[0minformation\u001b[0m\u001b[1;33m[\u001b[0m\u001b[1;34m'photo'\u001b[0m\u001b[1;33m]\u001b[0m\u001b[1;33m[\u001b[0m\u001b[1;34m'tags'\u001b[0m\u001b[1;33m]\u001b[0m\u001b[1;33m[\u001b[0m\u001b[1;34m'tag'\u001b[0m\u001b[1;33m]\u001b[0m\u001b[1;33m\u001b[0m\u001b[1;33m\u001b[0m\u001b[0m\n\u001b[0m\u001b[0;32m     10\u001b[0m     \u001b[0minformation_tag\u001b[0m \u001b[1;33m=\u001b[0m \u001b[1;33m[\u001b[0m\u001b[1;33m]\u001b[0m\u001b[1;33m\u001b[0m\u001b[1;33m\u001b[0m\u001b[0m\n\u001b[0;32m     11\u001b[0m     \u001b[1;32mfor\u001b[0m \u001b[0mj\u001b[0m \u001b[1;32min\u001b[0m \u001b[0mrange\u001b[0m\u001b[1;33m(\u001b[0m\u001b[0mlen\u001b[0m\u001b[1;33m(\u001b[0m\u001b[0mtags\u001b[0m\u001b[1;33m)\u001b[0m\u001b[1;33m)\u001b[0m\u001b[1;33m:\u001b[0m\u001b[1;33m\u001b[0m\u001b[1;33m\u001b[0m\u001b[0m\n",
      "\u001b[1;32msrc/lxml/etree.pyx\u001b[0m in \u001b[0;36mlxml.etree._Element.__getitem__\u001b[1;34m()\u001b[0m\n",
      "\u001b[1;31mTypeError\u001b[0m: 'str' object cannot be interpreted as an integer"
     ]
    }
   ],
   "source": [
    "# 각각의 photo_id 에 대해 tag, title, url 추출\n",
    "\n",
    "total_information = []\n",
    "\n",
    "for i in range(len(photo_id)):\n",
    "    information = flickr.photos.getInfo(photo_id=photo_id[i])\n",
    "    \n",
    "    # tag 추출\n",
    "    tags = information['photo']['tags']['tag']\n",
    "    information_tag = []\n",
    "    for j in range(len(tags)):\n",
    "        information_tag.append(tags[j]['_content'])\n",
    "        pass\n",
    "    \n",
    "    # title 추출\n",
    "    information_title = information['photo']['title']['_content']\n",
    "    \n",
    "    # url 추출\n",
    "    information_url = information['photo']['urls']['url'][0]['_content']\n",
    "    \n",
    "    # photo_id, tag, title, url을 하나의 리스트로 만들기\n",
    "    information_list = []\n",
    "    information_list.append(photo_id[i])\n",
    "    information_list.append(information_tag)\n",
    "    information_list.append(information_title)\n",
    "    information_list.append(information_url)\n",
    "    \n",
    "    # 총 리스트 만들기\n",
    "    total_information.append(information_list)\n",
    "    print(len(total_information))\n",
    "    \n",
    "    pass"
   ]
  },
  {
   "cell_type": "code",
   "execution_count": 74,
   "metadata": {},
   "outputs": [
    {
     "data": {
      "text/plain": [
       "[]"
      ]
     },
     "execution_count": 74,
     "metadata": {},
     "output_type": "execute_result"
    }
   ],
   "source": [
    "total_information"
   ]
  },
  {
   "cell_type": "code",
   "execution_count": 75,
   "metadata": {},
   "outputs": [],
   "source": [
    "### 해야 할 일: photo_id 기준으로 tag, title, url을 한 눈에 볼 수 있는 dataframe 만드는 것 [pandas에 대한 이해 높이자!]\n",
    "import pandas as pd\n",
    "\n",
    "col_names = ['photo_id', 'tag', 'title', 'image_url']\n",
    "values = total_information\n",
    "flickr_df = pd.DataFrame(values, columns=col_names)"
   ]
  },
  {
   "cell_type": "code",
   "execution_count": 76,
   "metadata": {},
   "outputs": [
    {
     "data": {
      "text/html": [
       "<div>\n",
       "<style scoped>\n",
       "    .dataframe tbody tr th:only-of-type {\n",
       "        vertical-align: middle;\n",
       "    }\n",
       "\n",
       "    .dataframe tbody tr th {\n",
       "        vertical-align: top;\n",
       "    }\n",
       "\n",
       "    .dataframe thead th {\n",
       "        text-align: right;\n",
       "    }\n",
       "</style>\n",
       "<table border=\"1\" class=\"dataframe\">\n",
       "  <thead>\n",
       "    <tr style=\"text-align: right;\">\n",
       "      <th></th>\n",
       "      <th>photo_id</th>\n",
       "      <th>tag</th>\n",
       "      <th>title</th>\n",
       "      <th>image_url</th>\n",
       "    </tr>\n",
       "  </thead>\n",
       "  <tbody>\n",
       "  </tbody>\n",
       "</table>\n",
       "</div>"
      ],
      "text/plain": [
       "Empty DataFrame\n",
       "Columns: [photo_id, tag, title, image_url]\n",
       "Index: []"
      ]
     },
     "execution_count": 76,
     "metadata": {},
     "output_type": "execute_result"
    }
   ],
   "source": [
    "flickr_df"
   ]
  },
  {
   "cell_type": "code",
   "execution_count": 77,
   "metadata": {},
   "outputs": [
    {
     "ename": "PermissionError",
     "evalue": "[Errno 13] Permission denied: 'italy_dataframe.csv'",
     "output_type": "error",
     "traceback": [
      "\u001b[1;31m---------------------------------------------------------------------------\u001b[0m",
      "\u001b[1;31mPermissionError\u001b[0m                           Traceback (most recent call last)",
      "\u001b[1;32m<ipython-input-77-b6da439648e7>\u001b[0m in \u001b[0;36m<module>\u001b[1;34m\u001b[0m\n\u001b[0;32m      1\u001b[0m \u001b[1;31m# flickr_df를 csv 파일로 저장하기\u001b[0m\u001b[1;33m\u001b[0m\u001b[1;33m\u001b[0m\u001b[1;33m\u001b[0m\u001b[0m\n\u001b[1;32m----> 2\u001b[1;33m \u001b[0mflickr_df\u001b[0m\u001b[1;33m.\u001b[0m\u001b[0mto_csv\u001b[0m\u001b[1;33m(\u001b[0m\u001b[1;34m'italy'\u001b[0m\u001b[1;33m+\u001b[0m\u001b[1;34m'_dataframe.csv'\u001b[0m\u001b[1;33m)\u001b[0m\u001b[1;33m\u001b[0m\u001b[1;33m\u001b[0m\u001b[0m\n\u001b[0m",
      "\u001b[1;32m~\\Anaconda3\\lib\\site-packages\\pandas\\core\\generic.py\u001b[0m in \u001b[0;36mto_csv\u001b[1;34m(self, path_or_buf, sep, na_rep, float_format, columns, header, index, index_label, mode, encoding, compression, quoting, quotechar, line_terminator, chunksize, date_format, doublequote, escapechar, decimal)\u001b[0m\n\u001b[0;32m   3226\u001b[0m             \u001b[0mdecimal\u001b[0m\u001b[1;33m=\u001b[0m\u001b[0mdecimal\u001b[0m\u001b[1;33m,\u001b[0m\u001b[1;33m\u001b[0m\u001b[1;33m\u001b[0m\u001b[0m\n\u001b[0;32m   3227\u001b[0m         )\n\u001b[1;32m-> 3228\u001b[1;33m         \u001b[0mformatter\u001b[0m\u001b[1;33m.\u001b[0m\u001b[0msave\u001b[0m\u001b[1;33m(\u001b[0m\u001b[1;33m)\u001b[0m\u001b[1;33m\u001b[0m\u001b[1;33m\u001b[0m\u001b[0m\n\u001b[0m\u001b[0;32m   3229\u001b[0m \u001b[1;33m\u001b[0m\u001b[0m\n\u001b[0;32m   3230\u001b[0m         \u001b[1;32mif\u001b[0m \u001b[0mpath_or_buf\u001b[0m \u001b[1;32mis\u001b[0m \u001b[1;32mNone\u001b[0m\u001b[1;33m:\u001b[0m\u001b[1;33m\u001b[0m\u001b[1;33m\u001b[0m\u001b[0m\n",
      "\u001b[1;32m~\\Anaconda3\\lib\\site-packages\\pandas\\io\\formats\\csvs.py\u001b[0m in \u001b[0;36msave\u001b[1;34m(self)\u001b[0m\n\u001b[0;32m    181\u001b[0m                 \u001b[0mself\u001b[0m\u001b[1;33m.\u001b[0m\u001b[0mmode\u001b[0m\u001b[1;33m,\u001b[0m\u001b[1;33m\u001b[0m\u001b[1;33m\u001b[0m\u001b[0m\n\u001b[0;32m    182\u001b[0m                 \u001b[0mencoding\u001b[0m\u001b[1;33m=\u001b[0m\u001b[0mself\u001b[0m\u001b[1;33m.\u001b[0m\u001b[0mencoding\u001b[0m\u001b[1;33m,\u001b[0m\u001b[1;33m\u001b[0m\u001b[1;33m\u001b[0m\u001b[0m\n\u001b[1;32m--> 183\u001b[1;33m                 \u001b[0mcompression\u001b[0m\u001b[1;33m=\u001b[0m\u001b[0mself\u001b[0m\u001b[1;33m.\u001b[0m\u001b[0mcompression\u001b[0m\u001b[1;33m,\u001b[0m\u001b[1;33m\u001b[0m\u001b[1;33m\u001b[0m\u001b[0m\n\u001b[0m\u001b[0;32m    184\u001b[0m             )\n\u001b[0;32m    185\u001b[0m             \u001b[0mclose\u001b[0m \u001b[1;33m=\u001b[0m \u001b[1;32mTrue\u001b[0m\u001b[1;33m\u001b[0m\u001b[1;33m\u001b[0m\u001b[0m\n",
      "\u001b[1;32m~\\Anaconda3\\lib\\site-packages\\pandas\\io\\common.py\u001b[0m in \u001b[0;36m_get_handle\u001b[1;34m(path_or_buf, mode, encoding, compression, memory_map, is_text)\u001b[0m\n\u001b[0;32m    397\u001b[0m         \u001b[1;32mif\u001b[0m \u001b[0mencoding\u001b[0m\u001b[1;33m:\u001b[0m\u001b[1;33m\u001b[0m\u001b[1;33m\u001b[0m\u001b[0m\n\u001b[0;32m    398\u001b[0m             \u001b[1;31m# Encoding\u001b[0m\u001b[1;33m\u001b[0m\u001b[1;33m\u001b[0m\u001b[1;33m\u001b[0m\u001b[0m\n\u001b[1;32m--> 399\u001b[1;33m             \u001b[0mf\u001b[0m \u001b[1;33m=\u001b[0m \u001b[0mopen\u001b[0m\u001b[1;33m(\u001b[0m\u001b[0mpath_or_buf\u001b[0m\u001b[1;33m,\u001b[0m \u001b[0mmode\u001b[0m\u001b[1;33m,\u001b[0m \u001b[0mencoding\u001b[0m\u001b[1;33m=\u001b[0m\u001b[0mencoding\u001b[0m\u001b[1;33m,\u001b[0m \u001b[0mnewline\u001b[0m\u001b[1;33m=\u001b[0m\u001b[1;34m\"\"\u001b[0m\u001b[1;33m)\u001b[0m\u001b[1;33m\u001b[0m\u001b[1;33m\u001b[0m\u001b[0m\n\u001b[0m\u001b[0;32m    400\u001b[0m         \u001b[1;32melif\u001b[0m \u001b[0mis_text\u001b[0m\u001b[1;33m:\u001b[0m\u001b[1;33m\u001b[0m\u001b[1;33m\u001b[0m\u001b[0m\n\u001b[0;32m    401\u001b[0m             \u001b[1;31m# No explicit encoding\u001b[0m\u001b[1;33m\u001b[0m\u001b[1;33m\u001b[0m\u001b[1;33m\u001b[0m\u001b[0m\n",
      "\u001b[1;31mPermissionError\u001b[0m: [Errno 13] Permission denied: 'italy_dataframe.csv'"
     ]
    }
   ],
   "source": [
    "# flickr_df를 csv 파일로 저장하기\n",
    "flickr_df.to_csv('italy'+'_dataframe.csv')"
   ]
  },
  {
   "cell_type": "code",
   "execution_count": null,
   "metadata": {},
   "outputs": [],
   "source": []
  },
  {
   "cell_type": "code",
   "execution_count": 81,
   "metadata": {},
   "outputs": [
    {
     "ename": "FlickrError",
     "evalue": "Error: 1: User not found",
     "output_type": "error",
     "traceback": [
      "\u001b[1;31m---------------------------------------------------------------------------\u001b[0m",
      "\u001b[1;31mFlickrError\u001b[0m                               Traceback (most recent call last)",
      "\u001b[1;32m<ipython-input-81-04ab939b625a>\u001b[0m in \u001b[0;36m<module>\u001b[1;34m\u001b[0m\n\u001b[0;32m     11\u001b[0m \u001b[0mkeyword\u001b[0m \u001b[1;33m=\u001b[0m \u001b[1;34m'pisa'\u001b[0m\u001b[1;33m\u001b[0m\u001b[1;33m\u001b[0m\u001b[0m\n\u001b[0;32m     12\u001b[0m \u001b[1;33m\u001b[0m\u001b[0m\n\u001b[1;32m---> 13\u001b[1;33m \u001b[0mtags\u001b[0m \u001b[1;33m=\u001b[0m \u001b[0mflickr\u001b[0m\u001b[1;33m.\u001b[0m\u001b[0mtags\u001b[0m\u001b[1;33m.\u001b[0m\u001b[0mgetListUserRaw\u001b[0m\u001b[1;33m(\u001b[0m\u001b[0mapi_key\u001b[0m\u001b[1;33m=\u001b[0m \u001b[1;34m'c6a2c45591d4973ff525042472446ca2'\u001b[0m\u001b[1;33m,\u001b[0m \u001b[0mtag\u001b[0m\u001b[1;33m=\u001b[0m\u001b[0mkeyword\u001b[0m\u001b[1;33m)\u001b[0m\u001b[1;33m\u001b[0m\u001b[1;33m\u001b[0m\u001b[0m\n\u001b[0m\u001b[0;32m     14\u001b[0m \u001b[0murls\u001b[0m \u001b[1;33m=\u001b[0m \u001b[1;33m[\u001b[0m\u001b[1;33m]\u001b[0m\u001b[1;33m\u001b[0m\u001b[1;33m\u001b[0m\u001b[0m\n\u001b[0;32m     15\u001b[0m \u001b[1;32mfor\u001b[0m \u001b[0mi\u001b[0m\u001b[1;33m,\u001b[0m \u001b[0mtag\u001b[0m \u001b[1;32min\u001b[0m \u001b[0menumerate\u001b[0m\u001b[1;33m(\u001b[0m\u001b[0mtags\u001b[0m\u001b[1;33m)\u001b[0m\u001b[1;33m:\u001b[0m\u001b[1;33m\u001b[0m\u001b[1;33m\u001b[0m\u001b[0m\n",
      "\u001b[1;32m~\\Anaconda3\\lib\\site-packages\\flickrapi\\call_builder.py\u001b[0m in \u001b[0;36m__call__\u001b[1;34m(self, **kwargs)\u001b[0m\n\u001b[0;32m     36\u001b[0m \u001b[1;33m\u001b[0m\u001b[0m\n\u001b[0;32m     37\u001b[0m     \u001b[1;32mdef\u001b[0m \u001b[0m__call__\u001b[0m\u001b[1;33m(\u001b[0m\u001b[0mself\u001b[0m\u001b[1;33m,\u001b[0m \u001b[1;33m**\u001b[0m\u001b[0mkwargs\u001b[0m\u001b[1;33m)\u001b[0m\u001b[1;33m:\u001b[0m\u001b[1;33m\u001b[0m\u001b[1;33m\u001b[0m\u001b[0m\n\u001b[1;32m---> 38\u001b[1;33m         \u001b[1;32mreturn\u001b[0m \u001b[0mself\u001b[0m\u001b[1;33m.\u001b[0m\u001b[0mflickrapi_object\u001b[0m\u001b[1;33m.\u001b[0m\u001b[0mdo_flickr_call\u001b[0m\u001b[1;33m(\u001b[0m\u001b[0mself\u001b[0m\u001b[1;33m.\u001b[0m\u001b[0mmethod_name\u001b[0m\u001b[1;33m,\u001b[0m \u001b[1;33m**\u001b[0m\u001b[0mkwargs\u001b[0m\u001b[1;33m)\u001b[0m\u001b[1;33m\u001b[0m\u001b[1;33m\u001b[0m\u001b[0m\n\u001b[0m\u001b[0;32m     39\u001b[0m \u001b[1;33m\u001b[0m\u001b[0m\n\u001b[0;32m     40\u001b[0m \u001b[1;32mif\u001b[0m \u001b[0m__name__\u001b[0m \u001b[1;33m==\u001b[0m \u001b[1;34m'__main__'\u001b[0m\u001b[1;33m:\u001b[0m\u001b[1;33m\u001b[0m\u001b[1;33m\u001b[0m\u001b[0m\n",
      "\u001b[1;32m~\\Anaconda3\\lib\\site-packages\\flickrapi\\core.py\u001b[0m in \u001b[0;36mdo_flickr_call\u001b[1;34m(self, _method_name, timeout, **kwargs)\u001b[0m\n\u001b[0;32m    335\u001b[0m                                     \u001b[0mparse_format\u001b[0m\u001b[1;33m=\u001b[0m\u001b[0mparams\u001b[0m\u001b[1;33m[\u001b[0m\u001b[1;34m'format'\u001b[0m\u001b[1;33m]\u001b[0m\u001b[1;33m,\u001b[0m\u001b[1;33m\u001b[0m\u001b[1;33m\u001b[0m\u001b[0m\n\u001b[0;32m    336\u001b[0m                                     \u001b[0mtimeout\u001b[0m\u001b[1;33m=\u001b[0m\u001b[0mtimeout\u001b[0m\u001b[1;33m,\u001b[0m\u001b[1;33m\u001b[0m\u001b[1;33m\u001b[0m\u001b[0m\n\u001b[1;32m--> 337\u001b[1;33m                                     **params)\n\u001b[0m\u001b[0;32m    338\u001b[0m \u001b[1;33m\u001b[0m\u001b[0m\n\u001b[0;32m    339\u001b[0m     \u001b[1;32mdef\u001b[0m \u001b[0m_supply_defaults\u001b[0m\u001b[1;33m(\u001b[0m\u001b[0mself\u001b[0m\u001b[1;33m,\u001b[0m \u001b[0margs\u001b[0m\u001b[1;33m,\u001b[0m \u001b[0mdefaults\u001b[0m\u001b[1;33m)\u001b[0m\u001b[1;33m:\u001b[0m\u001b[1;33m\u001b[0m\u001b[1;33m\u001b[0m\u001b[0m\n",
      "\u001b[1;32m~\\Anaconda3\\lib\\site-packages\\flickrapi\\core.py\u001b[0m in \u001b[0;36m_wrap_in_parser\u001b[1;34m(self, wrapped_method, parse_format, *args, **kwargs)\u001b[0m\n\u001b[0;32m    405\u001b[0m         \u001b[1;31m# Return the parsed data\u001b[0m\u001b[1;33m\u001b[0m\u001b[1;33m\u001b[0m\u001b[1;33m\u001b[0m\u001b[0m\n\u001b[0;32m    406\u001b[0m         \u001b[0mparser\u001b[0m \u001b[1;33m=\u001b[0m \u001b[0mrest_parsers\u001b[0m\u001b[1;33m[\u001b[0m\u001b[0mparse_format\u001b[0m\u001b[1;33m]\u001b[0m\u001b[1;33m[\u001b[0m\u001b[1;36m0\u001b[0m\u001b[1;33m]\u001b[0m\u001b[1;33m\u001b[0m\u001b[1;33m\u001b[0m\u001b[0m\n\u001b[1;32m--> 407\u001b[1;33m         \u001b[1;32mreturn\u001b[0m \u001b[0mparser\u001b[0m\u001b[1;33m(\u001b[0m\u001b[0mself\u001b[0m\u001b[1;33m,\u001b[0m \u001b[0mdata\u001b[0m\u001b[1;33m)\u001b[0m\u001b[1;33m\u001b[0m\u001b[1;33m\u001b[0m\u001b[0m\n\u001b[0m\u001b[0;32m    408\u001b[0m \u001b[1;33m\u001b[0m\u001b[0m\n\u001b[0;32m    409\u001b[0m     \u001b[1;32mdef\u001b[0m \u001b[0m_extract_upload_response_format\u001b[0m\u001b[1;33m(\u001b[0m\u001b[0mself\u001b[0m\u001b[1;33m,\u001b[0m \u001b[0mkwargs\u001b[0m\u001b[1;33m)\u001b[0m\u001b[1;33m:\u001b[0m\u001b[1;33m\u001b[0m\u001b[1;33m\u001b[0m\u001b[0m\n",
      "\u001b[1;32m~\\Anaconda3\\lib\\site-packages\\flickrapi\\core.py\u001b[0m in \u001b[0;36mparse_etree\u001b[1;34m(self, rest_xml)\u001b[0m\n\u001b[0;32m    295\u001b[0m         \u001b[0merr\u001b[0m \u001b[1;33m=\u001b[0m \u001b[0mrsp\u001b[0m\u001b[1;33m.\u001b[0m\u001b[0mfind\u001b[0m\u001b[1;33m(\u001b[0m\u001b[1;34m'err'\u001b[0m\u001b[1;33m)\u001b[0m\u001b[1;33m\u001b[0m\u001b[1;33m\u001b[0m\u001b[0m\n\u001b[0;32m    296\u001b[0m         \u001b[0mcode\u001b[0m \u001b[1;33m=\u001b[0m \u001b[0merr\u001b[0m\u001b[1;33m.\u001b[0m\u001b[0mattrib\u001b[0m\u001b[1;33m.\u001b[0m\u001b[0mget\u001b[0m\u001b[1;33m(\u001b[0m\u001b[1;34m'code'\u001b[0m\u001b[1;33m,\u001b[0m \u001b[1;32mNone\u001b[0m\u001b[1;33m)\u001b[0m\u001b[1;33m\u001b[0m\u001b[1;33m\u001b[0m\u001b[0m\n\u001b[1;32m--> 297\u001b[1;33m         \u001b[1;32mraise\u001b[0m \u001b[0mFlickrError\u001b[0m\u001b[1;33m(\u001b[0m\u001b[0msix\u001b[0m\u001b[1;33m.\u001b[0m\u001b[0mu\u001b[0m\u001b[1;33m(\u001b[0m\u001b[1;34m'Error: %(code)s: %(msg)s'\u001b[0m\u001b[1;33m)\u001b[0m \u001b[1;33m%\u001b[0m \u001b[0merr\u001b[0m\u001b[1;33m.\u001b[0m\u001b[0mattrib\u001b[0m\u001b[1;33m,\u001b[0m \u001b[0mcode\u001b[0m\u001b[1;33m=\u001b[0m\u001b[0mcode\u001b[0m\u001b[1;33m)\u001b[0m\u001b[1;33m\u001b[0m\u001b[1;33m\u001b[0m\u001b[0m\n\u001b[0m\u001b[0;32m    298\u001b[0m \u001b[1;33m\u001b[0m\u001b[0m\n\u001b[0;32m    299\u001b[0m     \u001b[1;32mdef\u001b[0m \u001b[0m__getattr__\u001b[0m\u001b[1;33m(\u001b[0m\u001b[0mself\u001b[0m\u001b[1;33m,\u001b[0m \u001b[0mmethod_name\u001b[0m\u001b[1;33m)\u001b[0m\u001b[1;33m:\u001b[0m\u001b[1;33m\u001b[0m\u001b[1;33m\u001b[0m\u001b[0m\n",
      "\u001b[1;31mFlickrError\u001b[0m: Error: 1: User not found"
     ]
    }
   ],
   "source": [
    "# First, you should install flickrapi\n",
    "# pip install flickrapi\n",
    "\n",
    "import flickrapi\n",
    "import urllib.request\n",
    "from PIL import Image\n",
    "\n",
    "# Flickr api access key \n",
    "flickr=flickrapi.FlickrAPI('c6a2c45591d4973ff525042472446ca2', '202ffe6f387ce29b', cache=True)\n",
    "\n",
    "keyword = 'pisa'\n",
    "\n",
    "tags = flickr.tags.getListUserRaw(api_key= 'c6a2c45591d4973ff525042472446ca2', tag=keyword)\n",
    "urls = []\n",
    "for i, tag in enumerate(tags):\n",
    "    print (i)\n",
    "    \n",
    "    url = tag.get('url_c')\n",
    "    urls.append(url)\n",
    "    \n",
    "    # get 50 urls\n",
    "    if i > 50:\n",
    "        break\n",
    "\n",
    "print (urls)\n",
    "\n",
    "# Download image from the url and save it to '00001.jpg'\n",
    "urllib.request.urlretrieve(urls[i], '00001.csv')\n",
    "\n",
    "# Resize the image and overwrite it\n",
    "image = Image.open('00001.csv') \n",
    "image = image.resize((256, 256), Image.ANTIALIAS)\n",
    "image.save('00001.csv')"
   ]
  },
  {
   "cell_type": "code",
   "execution_count": null,
   "metadata": {},
   "outputs": [],
   "source": [
    "\n",
    "var flickr = require('..')(function auth() { /* noop */ });\n",
    "var assert = require('assert');\n",
    "\n",
    "describe('flickr.tags.getListUserRaw', function () {\n",
    "\n",
    "\tit('returns a Request instance', function () {\n",
    "\t\tvar req = flickr.tags.getListUserRaw({});\n",
    "\n",
    "\t\tassert.equal(req.method, 'GET');\n",
    "\t\tassert.equal(req.url, 'https://api.flickr.com/services/rest');\n",
    "\t\tassert.equal(req.qs.format, 'json');\n",
    "\t\tassert.equal(req.qs.nojsoncallback, '1');\n",
    "\t\tassert.equal(req.qs.method, 'flickr.tags.getListUserRaw');\n",
    "\t\tassert.equal(req.header['Content-Type'], 'text/plain');\n",
    "\t});\n",
    "\n",
    "});"
   ]
  }
 ],
 "metadata": {
  "kernelspec": {
   "display_name": "Python 3",
   "language": "python",
   "name": "python3"
  },
  "language_info": {
   "codemirror_mode": {
    "name": "ipython",
    "version": 3
   },
   "file_extension": ".py",
   "mimetype": "text/x-python",
   "name": "python",
   "nbconvert_exporter": "python",
   "pygments_lexer": "ipython3",
   "version": "3.7.4"
  }
 },
 "nbformat": 4,
 "nbformat_minor": 2
}
