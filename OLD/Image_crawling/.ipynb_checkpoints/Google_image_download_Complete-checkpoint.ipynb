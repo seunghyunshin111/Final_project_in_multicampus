{
 "cells": [
  {
   "cell_type": "code",
   "execution_count": 85,
   "metadata": {},
   "outputs": [
    {
     "name": "stdout",
     "output_type": "stream",
     "text": [
      "https://search.pstatic.net/common/?src=http%3A%2F%2Fblogfiles.naver.net%2F20100619_179%2Fangma8709_1276942180079CKTP8_jpg%2Fromesdf_angma8709.jpg&type=b400\n",
      "https://search.pstatic.net/common/?src=http%3A%2F%2Fblogfiles.naver.net%2F20150710_295%2Fredcapstory_1436502563148zYudx_JPEG%2F7_10%2528%25B7%25CE%25B8%25B6%25BF%25A9%25C7%25E0%2529_%25285%2529.jpg&type=b400\n",
      "https://search.pstatic.net/common/?src=http%3A%2F%2Fblogfiles.naver.net%2Fdata35%2F2008%2F8%2F29%2F152%2F122-anselmona.jpg&type=b400\n",
      "https://search.pstatic.net/common/?src=http%3A%2F%2Fpost.phinf.naver.net%2F20160829_64%2F1472457150629fHnPA_JPEG%2FI85fadI1G7Gw9uyPqrQaS7MqoUuk.jpg&type=b400\n",
      "https://search.pstatic.net/common/?src=http%3A%2F%2Fcafefiles.naver.net%2FMjAxOTEwMjlfMjkg%2FMDAxNTcyMzQ3NzUxODYw.tDi427H0gC4gSYp1HXofj1DaeqfD-Pxtzp-vrU2PK2sg.VLUVkIcRTRqeIz7hWnqso_sKBcbZ6Qb1M9rxrVbdMzgg.JPEG%2F%25B7%25CE%25B8%25B6_%25BF%25A9%25C7%25E0_6.jpg&type=b400\n",
      "https://search.pstatic.net/common/?src=http%3A%2F%2Fblogfiles.naver.net%2FMjAxNzA1MDJfMjY0%2FMDAxNDkzNzAxNDQ4MTkz.hx6BxfZb68aTqYtVFTlltmZodO-Mhycq-1sp6gx5syMg.C-sNdWtVdvrb7kyHVw174RT1eSGj0OwLYA8wwpbWXSYg.JPEG.arllincos%2Fda792fc5df7f9d1c4008125089b41b20.jpg&type=b400\n",
      "https://search.pstatic.net/common/?src=http%3A%2F%2Fpost.phinf.naver.net%2F20140805_136%2Fokss06_1407206957269xgmbI_JPEG%2Fmug_obj_201408051149184048.jpg&type=b400\n",
      "https://search.pstatic.net/common/?src=http%3A%2F%2Fblogfiles.naver.net%2F20140414_40%2Fsum7788_13974067839184BC4R_JPEG%2F%25C0%25CC%25C5%25BB%25B8%25AE%25BE%25C6_%25B7%25CE%25B8%25B6_%25BF%25A9%25C7%25E0__%25B7%25CE%25B8%25B6_%25BD%25C3%25B3%25BB_%25BE%25DF%25B0%25E6_%25B1%25B8%25B0%25E6%25C7%25CF%25B1%25E2__%25281%2529.JPG&type=b400\n",
      "https://search.pstatic.net/common/?src=http%3A%2F%2Fblogfiles.naver.net%2FMjAxODEwMjJfMTc2%2FMDAxNTQwMTgyNzQ5Mjcw.Y03HWDxObq43f1BiEkmdntpAmzAIhB9vTQULGLsQDE8g.v951Mt3ZH1wtRuucSKjiTJBwI8FcPt_eXX1C0O5qwQgg.JPEG.critica-academy%2F%25281%2529_3_%25C6%25F7%25B7%25CE%25B7%25CE%25B8%25B6%25B3%25EB_nicole-reyes-474160-unsplash.jpg&type=b400\n",
      "https://search.pstatic.net/common/?src=http%3A%2F%2Fblogfiles.naver.net%2FMjAxODExMjFfMjU5%2FMDAxNTQyNzY4MzY0MzMw.92dXKoQ5r5J8oxrZNXPL0Bl7teSY-SMvhuUnyLqR3VMg.7JyzWi1C41pu6MXnzX97IzwGb6qlevu1wwsc_xq4krAg.JPEG.gliceryn%2F%25B7%25CE%25B8%25B6%25BF%25A9%25C7%25E0-3.jpg&type=b400\n",
      "https://search.pstatic.net/common/?src=http%3A%2F%2Fcafefiles.naver.net%2F20140121_199%2Falskaeodhkd_1390285742752cWAGm_JPEG%2F15.jpg&type=b400\n",
      "https://search.pstatic.net/common/?src=http%3A%2F%2Fblogfiles.naver.net%2FMjAxNzExMTJfMzkg%2FMDAxNTEwNDc2OTUyOTM1.12IVU1IcQjtcbzNYIVgJHE10UJpJYIxhJL5-Xnoz3fog.MEpOuuU92YvAjQJmSVnJmEq75abIupNuEWhWRjpuI8gg.JPEG.modernrocker%2F03_%25C0%25CC%25C5%25BB%25B8%25AE%25BE%25C6_%25B7%25CE%25B8%25B6_%25B7%25CE%25B8%25B6%25B0%25F8%25C8%25B8%25C0%25E5%25C5%25CD_02.jpg&type=b400\n",
      "https://search.pstatic.net/common/?src=http%3A%2F%2Fblogfiles.naver.net%2FMjAxOTA3MzBfMjY2%2FMDAxNTY0NDU5OTA0ODMw.j3rpJjIGom6XX0aG6YoWTt1rO4jFQEvgdK-W_trK3VYg.q3cctQpMw-SMiG7oxqBDIWlTjlPcrGqK8txCEbYA6WIg.PNG.huztravel%2F%25B7%25CE%25B8%25B6%25BF%25A9%25C7%25E0%25C0%25CF%25C1%25A4%252C%25B7%25CE%25B8%25B6%25BD%25C3%25B3%25BB%25C4%25DA%25BD%25BA%252C%25C8%25DE%25C1%25EE%25C6%25AE%25B7%25A1%25BA%25ED_%252811%2529.png&type=b400\n",
      "https://search.pstatic.net/common/?src=http%3A%2F%2Fblogfiles.naver.net%2FMjAxOTAzMTlfODcg%2FMDAxNTUzMDAwOTg5MjI0.6fqfwi52hh3kGXVgsmqQAnFtBEJujr2Hk1JwxP8EMakg.VPK23rI9VqoNjNZspNJbdWExNPAifpVw-KkaVAt5Bz8g.JPEG.gotripcokr%2F2._%25B7%25CE%25B8%25B6_-%25C4%25DD%25B7%25CE%25BC%25BC%25BF%25F2.JPG&type=b400\n",
      "https://search.pstatic.net/common/?src=http%3A%2F%2Fblogfiles.naver.net%2F20150408_106%2Fchoiluna_1428463449639jHHAk_JPEG%2F%25C0%25CC%25C5%25BB%25B8%25AE%25BE%25C6-%25B7%25CE%25B8%25B6_%25281%2529.jpg&type=b400\n",
      "https://search.pstatic.net/common/?src=http%3A%2F%2Fblogfiles.naver.net%2FMjAxNzA0MDVfNDcg%2FMDAxNDkxMzgyMzcwNTI1.dKCDicl6jJ1-AGbyi2KkGasBLSTS9aKhqB39T1jEMzcg.VrOf7jHRjUfhznoHNHe3PRjv9uGtxNKN6i-w8noqPHwg.PNG.travelart%2F170405_%25BA%25ED%25B7%25CE%25B1%25D7_%25B7%25CE%25B8%25B6%25BD%25C3%25B3%25BB%25C1%25FD%25C1%25DF%25C5%25F5%25BE%25EE_5.png&type=b400\n",
      "https://search.pstatic.net/common/?src=http%3A%2F%2Fblogfiles.naver.net%2F20160615_291%2Fsuya629_1465968496204tQ378_JPEG%2F4_%25B7%25CE%25B8%25B6_%252834%2529.jpg&type=b400\n",
      "https://search.pstatic.net/common/?src=http%3A%2F%2Fblogfiles.naver.net%2F20160425_204%2Fcnfcomcom_1461553768759NXto0_JPEG%2F%25B7%25CE%25B8%25B6.jpg&type=b400\n",
      "https://search.pstatic.net/common/?src=http%3A%2F%2Fblogfiles.naver.net%2FMjAxOTA3MTlfMjYx%2FMDAxNTYzNDk2NDk2ODE0.RhB-pKbfn3H-mJwcw-oGlhSomfKDbAReGDB_VYoX5Igg.sSiqkErcZ2FYhYzQHFBzc4ZZn3tjOBDudjTvtUvuM3Yg.JPEG.iedutour%2F%25B7%25CE%25B8%25B6_%25BD%25C3%25B3%25BB.jpg&type=b400\n",
      "https://search.pstatic.net/common/?src=http%3A%2F%2Fblogfiles.naver.net%2FMjAxOTAzMTNfMTM3%2FMDAxNTUyNDY1MDMzNjQ3.NIy4Us6F70PL-A5EIZbALb_IK43G_u_4u7z8csO7GBwg.zThlE8VqXwTWmWhYa-LiylJ9wBmm9oWcj8LZSjm4TuIg.JPEG.sticky4%2FIMG_4096.JPG&type=b400\n",
      "https://search.pstatic.net/common/?src=http%3A%2F%2Fblogfiles.naver.net%2FMjAxOTExMDRfNzMg%2FMDAxNTcyODM4MjA5NTg2.5TtYYbV6Q8cPUfN7ECwlltsX8nbyB-uqwx_bh6Xm4g8g.utm_eqrqGZe9uIWtLTMU7egUInAfqzs3bjRCC5E3UIYg.JPEG.gotripcokr%2F2._%25C0%25CC%25C5%25BB%25B8%25AE%25BE%25C6_%25B7%25CE%25B8%25B6_%25BA%25A3%25B3%25D7%25C4%25A1%25BE%25C6%25B1%25C3%25C0%25FC%25B9%25DA%25B9%25B0%25B0%25FC.jpg&type=b400\n",
      "https://search.pstatic.net/common/?src=http%3A%2F%2Fblogfiles.naver.net%2F20130421_81%2Fnayeon0508_136647786545919lx0_JPEG%2F%25B7%25CE%25B8%25B6%25C0%25A7%25B5%25E5%25B7%25AF%25BA%25EA_%25B9%25CC%25B5%25E5%25B3%25AA%25C0%25D5_%25C0%25CE_%25C6%25C4%25B8%25AE_2%25BA%25CE%25C0%25DB%252C_%25B7%25CE%25B8%25B6%25C0%25A7%25B5%25E5%25B7%25AF%25BA%25EA_%25C8%25C4%25B1%25E2_2.JPG&type=b400\n",
      "https://search.pstatic.net/common/?src=http%3A%2F%2Fblogfiles.naver.net%2FMjAxOTA3MDNfMzUg%2FMDAxNTYyMTI5MzE0ODEx.4RJmpBGRPrY1xyyZyoXI0NRzLgFUXaIkWcBcN6q8idAg.m9jpwC1ery0Qln3ItVnMNyxrMuvfjd8HFYVaK_DW2FIg.PNG.bel-ita%2F2%25B7%25CE%25B8%25B6%25BF%25A9%25C7%25E0%25C4%25DA%25BD%25BA.png&type=b400\n",
      "https://search.pstatic.net/common/?src=http%3A%2F%2Fblogfiles.naver.net%2F20110224_63%2Frise43_1298558361486YIpcb_JPEG%2FMonument_to_Vittorio_Emanuele_II..jpg&type=b400\n",
      "https://search.pstatic.net/common/?src=http%3A%2F%2Fblogfiles.naver.net%2FMjAxNjEyMDNfMTcy%2FMDAxNDgwNjk3NDk3MzU5._uBMYcZ6cqIDm4FOa1hZKxhWBOGHh-aFpDZowzTV3oog.1BRXXMWxH-pTEqCzuwuaIpxXn62nep7jE6sCtcp-8Ukg.JPEG.missmayo%2F%25B7%25CE%25B8%25B6%25BD%25C3%25B3%25BB17.jpg&type=b400\n",
      "https://search.pstatic.net/common/?src=http%3A%2F%2Fblogfiles.naver.net%2FMjAxNzA2MjFfODUg%2FMDAxNDk3OTk4NTU1NzMz.PgpxMzLerQFidVh1S11mvXJQW3sxgyFVHMruIgGHQFgg.HykCgd_B0yju9xZMO_wJoP19b9vJE4e_62_0dYFmnJYg.JPEG.malaysiain%2F170621_%25B7%25CE%25B8%25B6%25BE%25DF%25B0%25E6_%25B7%25CE%25B8%25B6%25BD%25C3%25B3%25BB%25C5%25F5%25BE%25EE_%25BB%25E7%25C1%25F8__%25283%2529.jpg&type=b400\n",
      "https://search.pstatic.net/common/?src=http%3A%2F%2Fblogfiles.naver.net%2FMjAxOTExMThfMjgx%2FMDAxNTc0MDUxNjk1NzU5.lkt6CAWkMyQL5FKQeC61QfNEqKAnt41icdIAvM8Qivkg.tViindNhby7k1ElsW3Uq-KMOdBfOkkRBPCfZUZ3F44Qg.JPEG.socuripass%2F%25B7%25CE%25B8%25B6%25C6%25D0%25BD%25BA%25B7%25CE%25C4%25DD%25B7%25CE%25BC%25BC%25BF%25F2%25BF%25B9%25BE%25E0%25C7%25CF%25B1%25E2_%25281%2529.jpg&type=b400\n",
      "https://search.pstatic.net/common/?src=http%3A%2F%2Fpost.phinf.naver.net%2FMjAxOTEyMjNfNjQg%2FMDAxNTc3MDg2NjUzMjgy.1qW9Jh3sPT_HyTadRBnkfn97EnejGvQrviAGcZFShXUg.K-QTT0ltXc5ok1z4-I1PNoP4xdM260usH-VWEb9wx2Qg.JPEG%2FID1R3HPSgFzi8N7JUPM8v2x-nooU.jpg&type=b400\n",
      "https://search.pstatic.net/common/?src=http%3A%2F%2Fblogfiles.naver.net%2FMjAxOTExMjZfMTcy%2FMDAxNTc0NzY0MDQxODgw.kkI40FZ-Wqb8IxLiDM7hChKuc2Cy2jdpLQ6jbEAjAkIg.LJUKxglya3E8CbDzwquU5Fsd7f12Opo_q1rIHwGY8u0g.JPEG.rooster57%2F%25B7%25CE%25B8%25B6%25C6%25D0%25BD%25BA-11.jpg&type=b400\n",
      "https://search.pstatic.net/common/?src=http%3A%2F%2Fblogfiles.naver.net%2FMjAxOTExMTRfMzAg%2FMDAxNTczNzIwOTYzNjE1.lrrZCB_AiNDXQPAY8naLDZtZZCQ3ZppqSfbmD9V-Co8g.BTzjvT9dMh3EpVsSP1RZ3SkEy1hte6JBB3j0InIPBUsg.JPEG.socuripass%2F%25B7%25CE%25B8%25B6%25BF%25A9%25C7%25E0_%25B7%25CE%25B8%25B6%25C0%25CF%25C1%25A4%25C3%25DF%25C3%25B5.JPG&type=b400\n",
      "https://search.pstatic.net/common/?src=http%3A%2F%2Fpost.phinf.naver.net%2FMjAxOTEwMzBfOTEg%2FMDAxNTcyNDQwMTgyOTMy.SqwnIfbKCWUmZvCcN5ITs1b3HwKRnkNhmU3sCCQJm3Ig.vXEWn0jyU03CXDSxLdXCCiBQkVROvzz5MNpLl2D4WYMg.JPEG%2FIttEVsOvQ1k-n-nDPwYsWtJISUg8.jpg&type=b400\n",
      "https://search.pstatic.net/common/?src=http%3A%2F%2Fblogfiles.naver.net%2FMjAxOTEyMThfMTg5%2FMDAxNTc2NjY1OTI0OTg3.DdhdDItj4bwGdX3IO4QHxrVCt7oHf-VEuowrsbOQ6BAg.RlJut7exz9HyOJJxr_r0z5iVXEXTaGD5ID_hB8M5X-gg.PNG.nakora77%2F%25B7%25CE%25B8%25B6_%25B0%25FC%25B1%25A4_%25C1%25F6%25B5%25B52.png&type=b400\n",
      "https://search.pstatic.net/common/?src=http%3A%2F%2Fblogfiles.naver.net%2FMjAxOTExMTNfMjk0%2FMDAxNTczNjM1NDI4NjEy.uIwWAwsh0gQT7jA6ikWQVBYS4ayAom7TVvNJl6ua5R0g.Yfyw7DAEH-1mJ3AvWedIH16a8JW5OvL3iAe11C_-ju4g.JPEG.redpants_eu%2F%25B7%25CE%25B8%25B6_%25C1%25F6%25C7%25CF%25C3%25B6_%25B3%25EB%25BC%25B1%25B5%25B5.jpg&type=b400\n",
      "https://search.pstatic.net/common/?src=http%3A%2F%2Fblogfiles.naver.net%2FMjAxOTExMDdfMjQx%2FMDAxNTczMTIxODQ4NjMw._r03vcL8-9H0sDtBmLAdSf4vGnRnBxqPKEM_k894W98g.m1b4p-40vk3tsllyl5-PIVToNVd5F0309V4rzVEt3dYg.JPEG.tpoe0211%2FIMG_1052.JPG&type=b400\n",
      "https://search.pstatic.net/common/?src=http%3A%2F%2Fpost.phinf.naver.net%2FMjAxOTExMTRfMjUy%2FMDAxNTczNjkyOTk3MjM1.9biqokR51Go7mr1FzdRPP6x1dN__lF25xavGLPNsf7sg.dHRufHwAIG_UMAG8rMcSKMV9RaZgoG0k1QVauXlJCjEg.JPEG%2FIFHTZGA6hBNdTauRawTez3uAqWco.jpg&type=b400\n",
      "https://search.pstatic.net/common/?src=http%3A%2F%2Fblogfiles.naver.net%2FMjAxOTEyMTZfMjc5%2FMDAxNTc2NDg1MjA1NjA4.6iUgvaK8aHJVb7zLCtlQKZb-SRfaV6FgecISbeF27zYg.vLlMxBavV-dIjCehe-p9oXU-vJH1Ide8lXtNGiTwKYIg.PNG.hoti7746%2F%25B7%25CE%25B8%25B6%25BF%25A9%25C7%25E0_%25B7%25CE%25B8%25B6%25BF%25A9%25C7%25E0%25C4%25DA%25BD%25BA_%25B3%25B2%25BA%25CE%25C5%25F5%25BE%25EE3.png&type=b400\n",
      "https://search.pstatic.net/common/?src=http%3A%2F%2Fblogfiles.naver.net%2FMjAyMDAxMTNfNTEg%2FMDAxNTc4ODkxMTQzNTM1.31pRwykTX8_hNBx9rNwoE4aoRhwX-UwSUDOwGTp0ZFcg.kK_1Bjzp9W5VeZG0zpxTGxmEsAxTT2ZuSvRUdvf355Yg.JPEG.kjspo56%2Frome-1681635_1920.jpg&type=b400\n",
      "https://search.pstatic.net/common/?src=http%3A%2F%2Fpost.phinf.naver.net%2FMjAxOTA4MTNfMTIz%2FMDAxNTY1Njg3MDkxMDE4.QGx_NxCL4-VdKdAy_8H7M9PeOI6_DZ_EozaF4_pZ6Wkg.5eaUDHj1_sQkQpPWhSEPQrM7Lf_eniN7sGIVgo4ZOXsg.JPEG%2FIu0rAfrxrYoVa0i_1XJccZh7kTWI.jpg&type=b400\n",
      "https://search.pstatic.net/common/?src=http%3A%2F%2Fblogfiles.naver.net%2FMjAxOTEyMTRfODYg%2FMDAxNTc2Mjg0MjQ4OTc1.YI-lfAWhkUVTPTESxlFJgshTwhnoYB2IRy7__BkmcNwg.n5KFWXsCiwDQPh4OUpzh1ZVVk4jRYh9eKXUBdfJokdMg.JPEG.tenorkjh%2F2020_%25B7%25CE%25B8%25B6%25BE%25C6%25C4%25AB%25B5%25A5%25B9%25CC_%25B0%25DC%25BF%25EF%25C4%25DA%25BD%25BA%2528s%2529.jpg&type=b400\n",
      "https://search.pstatic.net/common/?src=http%3A%2F%2Fimgnews.naver.net%2Fimage%2F5551%2F2019%2F10%2F30%2F0000065015_002_20191030081010994.jpg&type=b400\n",
      "https://search.pstatic.net/common/?src=http%3A%2F%2Fcafefiles.naver.net%2FMjAxOTEyMTlfMjEz%2FMDAxNTc2NzEzMjY5MjE3.kSgKcjHm0R3BpE3DFs4AvWQS-_S5d9YnIz1o3YSysNsg.YsDF8DceuD8a70agsj3c2pGM1mKYngRNsxqBS8NxkVQg.JPEG%2F%25B1%25D7%25B8%25AE%25BD%25BA%25B7%25CE%25B8%25B6%25BD%25C5%25C8%25AD_%25C0%25D4%25C3%25BC.jpg&type=b400\n",
      "https://search.pstatic.net/common/?src=http%3A%2F%2Fblogfiles.naver.net%2FMjAxOTEyMjZfMTgw%2FMDAxNTc3MzI4NTQ2Njc4.4qnWSB97QUCHeEji9LsEU9wKyjV_ZUOaOXJLGKiKUy8g.11Hfd9WsutKABFHzEYHyMPOlZcMcL3tTjAwz9gpzrNgg.JPEG.mr_dal1000%2FHI552523746.jpg&type=b400\n",
      "https://search.pstatic.net/common/?src=http%3A%2F%2Fcafefiles.naver.net%2FMjAxOTExMjZfMzEg%2FMDAxNTc0NzI0MTg4MDEy.9ZluVl7UFnCH7vL3afw4ATrksWKcFqF0Z38cgc4Whv0g.pyD-Auy5MKkPqbAk882fX9dQhARWLy82-1WD9P-UawQg.JPEG%2F%25B7%25CE%25B8%25B6%25BF%25A9%25C7%25E0_3.jpg&type=b400\n",
      "https://search.pstatic.net/common/?src=http%3A%2F%2Fblogfiles.naver.net%2FMjAyMDAxMjNfMTk1%2FMDAxNTc5NzE0NTc3ODk4.lKbnkKa6K7_TTYEpJrltB4xO2vb_Y1MGmukhdd8xmy8g.ExYuCQe-Y6fz2Mqr-5DQaiYRiNb_0qxux4qG1WrxDI0g.JPEG.suni2park%2F%25C0%25CD%25BD%25BA01.2.36.jpg&type=b400\n",
      "https://search.pstatic.net/common/?src=http%3A%2F%2Fblogfiles.naver.net%2FMjAyMDAxMTNfMyAg%2FMDAxNTc4OTAzMTc1MTU1.Y1o__xPatsiduG92RaEBHfhaV2sLjz7DG8NxeCp-JjQg.ujWsAPL_zgJFYQLyoDTDIrfWUZGyvdZKMI30PuK_Q5kg.JPEG.lewislim1025%2FIMG_9462.jpg&type=b400\n",
      "https://search.pstatic.net/common/?src=http%3A%2F%2Fblogfiles.naver.net%2FMjAyMDAxMDJfMTUx%2FMDAxNTc3OTM1MzI1NDAy.QfKe7CxS6H4eSEB-i2yEcX3RwkMgs2SSSwCMfmu1cFsg.QwS59UYPy9V7dtW3Ei90msa0l-g81_YHLJG9MN588Nwg.JPEG.hbr98%2F1577935323852.jpg&type=b400\n",
      "https://search.pstatic.net/common/?src=http%3A%2F%2Fblogfiles.naver.net%2FMjAxOTEyMjBfMjIz%2FMDAxNTc2ODA5ODMzMjUz.JlWUbnfoO4BR9K6rkHlKKfxm_lzvUCdPZQHRvu7wlG8g.mPU125IZB5oiUZPO9ZJNCafQLIp_H9TLCiKN5tFHFJEg.JPEG.tvkoreawhj%2F1576809831774.jpg&type=b400\n",
      "https://search.pstatic.net/common/?src=http%3A%2F%2Fpost.phinf.naver.net%2FMjAxOTExMTRfMzYg%2FMDAxNTczNzAxMzAxNjM1.tmyFALHkgkVbFphL_PGg-AhsLq4YE8EB3vA7-F30wDAg.zZXv2J6VMMRgBN1mcyYgV39cCG7EIR1KoMpuhlaV4A4g.JPEG%2FIZDrd2nT_0dF2op0yt_dNlDSYJXU.jpg&type=b400\n",
      "https://search.pstatic.net/common/?src=http%3A%2F%2Fblogfiles.naver.net%2FMjAxNzExMTJfNzEg%2FMDAxNTEwNDc2OTUyNzQ4.VpW9058kU3a-Re2zIZWFR7JdmYNOc29ztKwcLTQ9cIMg.Ao1WdJ_5KpDw7mf0-DKGq42BwIdQyfW-NjBRGkFuHBsg.JPEG.modernrocker%2F03_%25C0%25CC%25C5%25BB%25B8%25AE%25BE%25C6_%25B7%25CE%25B8%25B6_%25B7%25CE%25B8%25B6%25B0%25F8%25C8%25B8%25C0%25E5%25C5%25CD_01.jpg&type=b400\n",
      "https://search.pstatic.net/common/?src=http%3A%2F%2Fblogfiles.naver.net%2FMjAxNzA0MDVfMjQ2%2FMDAxNDkxMzgyMzUzNTY3.-QSdGxycA6BypdRhoCUMT6kqiddXPatcd2fhMTWPME8g.3XkKz7TbbZDHzhNIfYN0mcEEnVXK1sry-9-fCL2_lDwg.PNG.travelart%2F170405_%25BA%25ED%25B7%25CE%25B1%25D7_%25B7%25CE%25B8%25B6%25BD%25C3%25B3%25BB%25C1%25FD%25C1%25DF%25C5%25F5%25BE%25EE_3.png&type=b400\n"
     ]
    }
   ],
   "source": [
    "import requests\n",
    "from bs4 import BeautifulSoup\n",
    "\n",
    "url = 'https://search.naver.com/search.naver?where=image&sm=tab_jum&query=로마'\n",
    "res = requests.get(url).content.decode()\n",
    "soup = BeautifulSoup(res, 'html.parser')\n",
    "\n",
    "imgs = soup.findAll('img', class_='_img')\n",
    "for img in imgs:\n",
    "\tprint(img.get('data-source'))\n",
    "    \n",
    "folder = \"C:\\Final_project\"\n"
   ]
  },
  {
   "cell_type": "code",
   "execution_count": 87,
   "metadata": {},
   "outputs": [],
   "source": [
    "import selenium\n",
    "from selenium import webdriver\n",
    "\n",
    "driver_path = \"c:\\dev\\chromedriver.exe\"\n",
    "\n",
    "wd = webdriver.Chrome(executable_path = driver_path)"
   ]
  },
  {
   "cell_type": "code",
   "execution_count": 88,
   "metadata": {},
   "outputs": [],
   "source": [
    "wd.get('http://google.com')"
   ]
  },
  {
   "cell_type": "code",
   "execution_count": 89,
   "metadata": {},
   "outputs": [],
   "source": [
    "search_box = wd.find_element_by_css_selector('input.gLFyf')"
   ]
  },
  {
   "cell_type": "code",
   "execution_count": 90,
   "metadata": {},
   "outputs": [],
   "source": [
    "search_box.send_keys('로마')"
   ]
  },
  {
   "cell_type": "code",
   "execution_count": null,
   "metadata": {},
   "outputs": [],
   "source": [
    "def fetch image_urls(list):\n",
    "    def scroll_to_end(wd)"
   ]
  }
 ],
 "metadata": {
  "kernelspec": {
   "display_name": "Python 3",
   "language": "python",
   "name": "python3"
  },
  "language_info": {
   "codemirror_mode": {
    "name": "ipython",
    "version": 3
   },
   "file_extension": ".py",
   "mimetype": "text/x-python",
   "name": "python",
   "nbconvert_exporter": "python",
   "pygments_lexer": "ipython3",
   "version": "3.7.4"
  }
 },
 "nbformat": 4,
 "nbformat_minor": 2
}
