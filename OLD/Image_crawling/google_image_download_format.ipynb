{
 "cells": [
  {
   "cell_type": "code",
   "execution_count": 2,
   "metadata": {},
   "outputs": [
    {
     "name": "stdout",
     "output_type": "stream",
     "text": [
      "\n",
      "Item no.: 1 --> Item name = \\ud53c\\ub80c\\uccb4\n",
      "Evaluating...\n",
      "Starting Download...\n",
      "\n",
      "\n",
      "Unfortunately all 99 could not be downloaded because some images were not downloadable. 0 is all we got for this search filter!\n",
      "\n",
      "Errors: 0\n",
      "\n",
      "({'피렌체': []}, 0)\n"
     ]
    }
   ],
   "source": [
    "from google_images_download import google_images_download\n",
    "import ssl\n",
    "\n",
    "ssl._create_default_https_context = ssl._create_unverified_context\n",
    "\n",
    "\n",
    "def imageCrawling(keyword, dir):\n",
    "    response = google_images_download.googleimagesdownload()\n",
    "    \n",
    "    arguments = {\"keywords\":\"피렌체\",\n",
    "                \"limit\":99,\n",
    "                \"print_urls\":True,\n",
    "                \"no_directory\":True,\n",
    "                \"output_directory\":dir}\n",
    "        \n",
    "    paths = response.download(arguments)\n",
    "    print(paths)\n",
    "    \n",
    "    \n",
    "imageCrawling('cat', 'c:/Final_project')"
   ]
  },
  {
   "cell_type": "code",
   "execution_count": 3,
   "metadata": {},
   "outputs": [
    {
     "ename": "IndentationError",
     "evalue": "unexpected indent (<ipython-input-3-f43fac575fb9>, line 24)",
     "output_type": "error",
     "traceback": [
      "\u001b[1;36m  File \u001b[1;32m\"<ipython-input-3-f43fac575fb9>\"\u001b[1;36m, line \u001b[1;32m24\u001b[0m\n\u001b[1;33m    for i in list:\u001b[0m\n\u001b[1;37m    ^\u001b[0m\n\u001b[1;31mIndentationError\u001b[0m\u001b[1;31m:\u001b[0m unexpected indent\n"
     ]
    }
   ],
   "source": [
    "# 여행지 사진 리스트가 필요(도시명, 특정 도시의 특정 여행지!!가 리스트로 나오면 좋을 것 같음!)\n",
    "\n",
    "from google_images_download import google_images_download\n",
    "import ssl\n",
    "\n",
    "ssl._create_default_https_context = ssl._create_unverified_context\n",
    "\n",
    "list = ['로마', '밀라노', '나폴리', '팔레르모', '토리노', '바리', '카타니아',\n",
    "       '볼로냐', '피렌체', '제노바', '베네치아', '메시나', '레조디칼라브리아',\n",
    "       '칼리아리', '베로나', '파도바', '트리에스테', '타란토', '프라토', '브레시아',\n",
    "       '모데나', '파르마', '레조넬에밀리아', '페루자', '리보르노', '포자', '라벤나',\n",
    "       '리미니', '살레르노', '페라라', '사사리', '시라쿠사', '페스카라', '몬차',\n",
    "       '트렌토', '베르가모', '비첸차', '라티나', '포를리', '테르니', '줄리아노인캄파니아',\n",
    "       '피아첸차', '노바라', '볼차노', '안코나', '아레초', '안드리아', '우디네',\n",
    "       '카탄차로', '라스페치아']\n",
    "\n",
    "\n",
    "def imageCrawling(keyword, dir):\n",
    "    response = google_images_download.googleimagesdownload()\n",
    "\n",
    "arguments = []\n",
    "argument = []\n",
    "\n",
    "    for i in list:\n",
    "        \n",
    "        argument = {\"keywords\":i,\n",
    "                \"limit\":99,\n",
    "                \"print_urls\":True}\n",
    "        \n",
    "        arguments = argument + 1\n",
    "        \n",
    "    return(arguments)\n",
    "    \n",
    "    paths = response.download(arguments)\n",
    "    print(paths)\n",
    "    \n",
    "    \n",
    "imageCrawling('cat', 'c:/Final_project')"
   ]
  },
  {
   "cell_type": "code",
   "execution_count": 21,
   "metadata": {},
   "outputs": [
    {
     "data": {
      "text/plain": [
       "['로마',\n",
       " '밀라노',\n",
       " '나폴리',\n",
       " '팔레르모',\n",
       " '토리노',\n",
       " '바리',\n",
       " '카타니아',\n",
       " '볼로냐',\n",
       " '피렌체',\n",
       " '제노바',\n",
       " '베네치아',\n",
       " '메시나',\n",
       " '레조디칼라브리아',\n",
       " '칼리아리',\n",
       " '베로나',\n",
       " '파도바',\n",
       " '트리에스테',\n",
       " '타란토',\n",
       " '프라토',\n",
       " '브레시아',\n",
       " '모데나',\n",
       " '파르마',\n",
       " '레조넬에밀리아',\n",
       " '페루자',\n",
       " '리보르노',\n",
       " '포자',\n",
       " '라벤나',\n",
       " '리미니',\n",
       " '살레르노',\n",
       " '페라라',\n",
       " '사사리',\n",
       " '시라쿠사',\n",
       " '페스카라',\n",
       " '몬차',\n",
       " '트렌토',\n",
       " '베르가모',\n",
       " '비첸차',\n",
       " '라티나',\n",
       " '포를리',\n",
       " '테르니',\n",
       " '줄리아노인캄파니아',\n",
       " '피아첸차',\n",
       " '노바라',\n",
       " '볼차노',\n",
       " '안코나',\n",
       " '아레초',\n",
       " '안드리아',\n",
       " '우디네',\n",
       " '카탄차로',\n",
       " '라스페치아']"
      ]
     },
     "execution_count": 21,
     "metadata": {},
     "output_type": "execute_result"
    }
   ],
   "source": [
    "list = ['로마', '밀라노', '나폴리', '팔레르모', '토리노', '바리', '카타니아',\n",
    "       '볼로냐', '피렌체', '제노바', '베네치아', '메시나', '레조디칼라브리아',\n",
    "       '칼리아리', '베로나', '파도바', '트리에스테', '타란토', '프라토', '브레시아',\n",
    "       '모데나', '파르마', '레조넬에밀리아', '페루자', '리보르노', '포자', '라벤나',\n",
    "       '리미니', '살레르노', '페라라', '사사리', '시라쿠사', '페스카라', '몬차',\n",
    "       '트렌토', '베르가모', '비첸차', '라티나', '포를리', '테르니', '줄리아노인캄파니아',\n",
    "       '피아첸차', '노바라', '볼차노', '안코나', '아레초', '안드리아', '우디네',\n",
    "       '카탄차로', '라스페치아']\n",
    "list"
   ]
  }
 ],
 "metadata": {
  "kernelspec": {
   "display_name": "Python 3",
   "language": "python",
   "name": "python3"
  },
  "language_info": {
   "codemirror_mode": {
    "name": "ipython",
    "version": 3
   },
   "file_extension": ".py",
   "mimetype": "text/x-python",
   "name": "python",
   "nbconvert_exporter": "python",
   "pygments_lexer": "ipython3",
   "version": "3.7.4"
  }
 },
 "nbformat": 4,
 "nbformat_minor": 2
}
