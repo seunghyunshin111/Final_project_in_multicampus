{
 "cells": [
  {
   "cell_type": "code",
   "execution_count": 22,
   "metadata": {},
   "outputs": [],
   "source": [
    "from selenium import webdriver\n",
    "from selenium.webdriver.common.keys import Keys\n",
    "from bs4 import BeautifulSoup\n",
    "import time\n",
    "import urllib\n",
    "import requests"
   ]
  },
  {
   "cell_type": "code",
   "execution_count": 23,
   "metadata": {},
   "outputs": [],
   "source": [
    "driver = webdriver.Chrome(\"c://dev//chromedriver.exe\")"
   ]
  },
  {
   "cell_type": "code",
   "execution_count": 24,
   "metadata": {},
   "outputs": [],
   "source": [
    "word = \"rome\""
   ]
  },
  {
   "cell_type": "code",
   "execution_count": 28,
   "metadata": {},
   "outputs": [],
   "source": [
    "driver.get('https://www.gettyimages.com/search/2/image?mediatype=photography&phrase={}'.format(word))\n",
    "time.sleep(1)"
   ]
  },
  {
   "cell_type": "code",
   "execution_count": 32,
   "metadata": {},
   "outputs": [],
   "source": [
    "for i in range(30):\n",
    "    try:\n",
    "        elem = driver.find_element_by_xpath('/html/body/div[1]/section/div/main/section/div[2]/div/div[3]/div/div[2]/gi-asset['+str(i)+']/article/a/figure/img')\n",
    "        time.sleep(1.5)\n",
    "        image_url = elem.get_attribute('src')\n",
    "        file_name = \"rome_\"+str(i)+\".png\"\n",
    "        urllib.request.urlretrieve(image_url, file_name)\n",
    "        time.sleep(1)\n",
    "        if i % 8 == 0:\n",
    "            body.send_keys(Keys.PAGE_DOWN)\n",
    "            time.sleep(1)\n",
    "    except:\n",
    "        pass"
   ]
  },
  {
   "cell_type": "code",
   "execution_count": null,
   "metadata": {},
   "outputs": [],
   "source": [
    "# 개별 테스트 "
   ]
  },
  {
   "cell_type": "code",
   "execution_count": 30,
   "metadata": {},
   "outputs": [],
   "source": [
    "titles = driver.find_element_by_xpath('/html/body/div[1]/section/div/main/section/div[2]/div/div[3]/div/div[2]/gi-asset[1]/article/a/figure/img')\n",
    "image_url = titles.get_attribute('src')"
   ]
  },
  {
   "cell_type": "code",
   "execution_count": 31,
   "metadata": {},
   "outputs": [
    {
     "data": {
      "text/plain": [
       "('rome_2.png', <http.client.HTTPMessage at 0x281cb9e0448>)"
      ]
     },
     "execution_count": 31,
     "metadata": {},
     "output_type": "execute_result"
    }
   ],
   "source": [
    "file_name = \"rome_2.png\"\n",
    "urllib.request.urlretrieve(image_url,file_name)"
   ]
  }
 ],
 "metadata": {
  "kernelspec": {
   "display_name": "Python 3",
   "language": "python",
   "name": "python3"
  },
  "language_info": {
   "codemirror_mode": {
    "name": "ipython",
    "version": 3
   },
   "file_extension": ".py",
   "mimetype": "text/x-python",
   "name": "python",
   "nbconvert_exporter": "python",
   "pygments_lexer": "ipython3",
   "version": "3.7.4"
  }
 },
 "nbformat": 4,
 "nbformat_minor": 2
}
